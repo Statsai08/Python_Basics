{
 "cells": [
  {
   "cell_type": "markdown",
   "metadata": {},
   "source": [
    "# Dictionary\n",
    "\n",
    "* It's a collection of data items interms of a key and then an associated value. It is represented in curley braces. \n",
    "* It enables to quickly retrive, add, remove, modify, values using a key.\n",
    "* This data type is very similar to what we call associative array or hash on other languages.\n",
    "* Dictionaries are mutable.\n",
    "* No Index value concept in the dictionary\n",
    "* Here dictionary will also allow duplicate values but not duplicate keys. \n",
    "\n",
    "* Syntax:\n",
    "\n",
    "         my_dict = {\"Key1\" : \"Value1\", \"Key2\" : \"Value2\", \"Key3\" : \"Value3\".......}\n"
   ]
  },
  {
   "cell_type": "code",
   "execution_count": 10,
   "metadata": {},
   "outputs": [
    {
     "name": "stdout",
     "output_type": "stream",
     "text": [
      "{}\n",
      "{1: 'Red', 2: 'Green', 3: 'Blue', 4: 'Yellow'}\n",
      "{'Name': 'Sainath', 1: 'Business Analyst', 'Height': 5.8}\n",
      "<class 'dict'>\n",
      "<class 'dict'>\n",
      "The created new dictionary is {'Name': 'Sainath', 'Mobile No': 6303341638, 'Designation': 'Business Analyst'}\n"
     ]
    }
   ],
   "source": [
    "# Exaple : 1 - Creating a empty dictionary\n",
    "mydic = {}\n",
    "print(mydic)\n",
    "\n",
    "\n",
    "# Example : 2 - Creating a dictionary with integer keys\n",
    "Dic1 = {1: \"Red\",2: \"Green\",3: \"Blue\",4: \"Yellow\"}\n",
    "print(Dic1)\n",
    "# Note: For integer keys no need to specify quotation.But for string key we need to specify the quotation other wise we will get \"Name error\".\n",
    "\n",
    "# Example : 3 - Creating a dictionnary with mixed keys\n",
    "Dic2 = {\"Name\" : \"Sainath\", 1: \"Business Analyst\", \"Height\" : 5.8}\n",
    "print(Dic2)\n",
    "\n",
    "\n",
    "# checking the data type \n",
    "print(type(Dic1))\n",
    "print(type(Dic2))\n",
    "\n",
    "\n",
    "# Example : 3 - Create dictionary\n",
    "\n",
    "my_dict = {\"Name\" : \"Sainath\", \"Mobile No\" : 6303341638, \"Designation\" : \"Business Analyst\"}\n",
    "print(\"The created new dictionary is\", my_dict)"
   ]
  },
  {
   "cell_type": "markdown",
   "metadata": {},
   "source": [
    "# Update or replace or changing the values in the dictionary\n",
    "\n",
    "* Dictionaries are mutuable i.e., we can replace or update any value in the dictionary based on \"key value\"."
   ]
  },
  {
   "cell_type": "code",
   "execution_count": 11,
   "metadata": {},
   "outputs": [
    {
     "data": {
      "text/plain": [
       "{'Name': 'Sainath',\n",
       " 'Mobile No': 6303341638,\n",
       " 'Designation': 'Senior Business Analyst'}"
      ]
     },
     "execution_count": 11,
     "metadata": {},
     "output_type": "execute_result"
    }
   ],
   "source": [
    "# Example : 4 - Manipulating the data element in the dictionary\n",
    "\n",
    "my_dict[\"Designation\"] = \"Senior Business Analyst\"\n",
    "\n",
    "my_dict"
   ]
  },
  {
   "cell_type": "markdown",
   "metadata": {},
   "source": [
    "# Duplicate key handling\n",
    "\n",
    "* When we entered duplicate key in the dictionary, python will automatically consider the last duplicate key and print the result.\n",
    "* I.e., whenever there is a duplicate key values in the dictionary it will overwrite and display the latest key and it's associated value."
   ]
  },
  {
   "cell_type": "code",
   "execution_count": 13,
   "metadata": {},
   "outputs": [
    {
     "name": "stdout",
     "output_type": "stream",
     "text": [
      "{'Name': 'Sainath', 'Designation': 'Business Analyst'}\n"
     ]
    }
   ],
   "source": [
    "# Exaple : 5 - Create a dictionary with duplicate key values.\n",
    "\n",
    "my_dict1 = {\"Name\" : 6303341638, \"Name\" : \"Sainath\", \"Designation\" : \"Business Analyst\"}\n",
    "print(my_dict1)"
   ]
  },
  {
   "cell_type": "markdown",
   "metadata": {},
   "source": [
    "# Accessing the elements from a dictionary \n",
    "\n",
    "* To access the dictionary elements, we can use the enclosed square brackets along with the key to obtain it's value."
   ]
  },
  {
   "cell_type": "code",
   "execution_count": null,
   "metadata": {},
   "outputs": [],
   "source": [
    "# Example : 6 -  Accessing the data elements from the dictionary using key variable.\n",
    "\n",
    "print(my_dict[\"Mobile No\"])\n",
    "print(my_dict1[\"Name\"])\n",
    "\n",
    "\n",
    "# Example : 7 - Accessing the data element from the dictionary where key value is not available.\n",
    "print(my_dict1[\"Mobile No\"])  # Here we will get key error."
   ]
  },
  {
   "cell_type": "markdown",
   "metadata": {},
   "source": [
    "# Accessing the dictionary elements using \"Get\" method.\n",
    "\n",
    "* We can access the data elements from dictionary using \"Get\" method.\n",
    "* Get method returns value of key if the key existed in the dictionary.\n",
    "* Get method return none value if the key not existed in the dictionary.\n",
    "\n",
    "* Note: Recommended method to access the data from the dictionary."
   ]
  },
  {
   "cell_type": "code",
   "execution_count": 19,
   "metadata": {},
   "outputs": [
    {
     "name": "stdout",
     "output_type": "stream",
     "text": [
      "Sainath\n",
      "None\n"
     ]
    }
   ],
   "source": [
    "# Example : 8 -  Accessing the data elements from the dictionary using key variable.\n",
    "\n",
    "print(my_dict.get('Name'))\n",
    "print(my_dict1.get('Mobile No'))\n"
   ]
  },
  {
   "cell_type": "markdown",
   "metadata": {},
   "source": [
    "# How to add elements/ update or change the existing data vlaue in a dictionary\n",
    "\n",
    "* Dictionaries are mutable. We can add new data elements or chnage the value of existing data element using assignment operator '='.\n",
    "* If the key is already present, value gets updated, else new key is added to the dictionary."
   ]
  },
  {
   "cell_type": "code",
   "execution_count": 26,
   "metadata": {},
   "outputs": [
    {
     "name": "stdout",
     "output_type": "stream",
     "text": [
      "{'Name': 'Sainath', 'Age': 35, 'Address': 'Vijayawada'}\n",
      "After adding a new key the updated dictionary is {'Name': 'Sainath', 'Age': 35, 'Address': 'Vijayawada', 'Mobile No': '+91- 6303341638'}\n",
      "After adding a new key the updated dictionary is {'Name': 'Mohana Lakshmi Sainath.Buragadda', 'Age': 35, 'Address': 'Vijayawada', 'Mobile No': '+91- 6303341638'}\n"
     ]
    }
   ],
   "source": [
    "# Example : 9 ;\n",
    "Emp_details ={'Name' : 'Sainath', \"Age\" : 35, 'Address' : 'Vijayawada' }\n",
    "print(Emp_details)\n",
    "\n",
    "# Adding mobile number to the dictionary.\n",
    "Emp_details['Mobile No'] = '+91- 6303341638'  # The new key will be added at the end of the dictionary.\n",
    "\n",
    "print(\"After adding a new key the updated dictionary is\", Emp_details)\n",
    "\n",
    "# Updating / change the existing element in a dictionary\n",
    "Emp_details['Name'] = \"Mohana Lakshmi Sainath.Buragadda\"  # The name key will be updated with the new value in the dictionary.\n",
    "print(\"After adding a new key the updated dictionary is\", Emp_details)"
   ]
  },
  {
   "cell_type": "markdown",
   "metadata": {},
   "source": [
    "# Creating a dictionay with list, tuple\n",
    "\n",
    "* We can create a dictionary with list and tuple as a data elements in a dictionary.\n",
    "* Also, we can update/change/create the elements from the created dicitioanry.\n",
    "* Also, we can access the elements in the newly created dictionary using index  for list (or) tuple"
   ]
  },
  {
   "cell_type": "code",
   "execution_count": 9,
   "metadata": {},
   "outputs": [
    {
     "data": {
      "text/plain": [
       "{'Name': 'Sainath',\n",
       " 'Emp Details': ['Business Analyst', 600000, 'L&T Infotech'],\n",
       " 'Address': ('Moula Nagar', 'Gollapudie', 521225)}"
      ]
     },
     "execution_count": 9,
     "metadata": {},
     "output_type": "execute_result"
    }
   ],
   "source": [
    "# Example : 10 -  create a dictionary with list and tuples\n",
    "\n",
    "my_dict2 = {\"Name\" : \"Sainath\", \"Emp Details\" : [\"Business Analyst\",600000,\"L&T Infotech\"],\"Address\": (\"Moula Nagar\",\"Gollapudie\",521225)}\n",
    "my_dict2"
   ]
  },
  {
   "cell_type": "code",
   "execution_count": 10,
   "metadata": {},
   "outputs": [
    {
     "data": {
      "text/plain": [
       "['Business Analyst', 600000, 'L&T Infotech']"
      ]
     },
     "execution_count": 10,
     "metadata": {},
     "output_type": "execute_result"
    }
   ],
   "source": [
    "# Accessing the data element from the dictionary\n",
    "\n",
    "my_dict2[\"Emp Details\"]"
   ]
  },
  {
   "cell_type": "code",
   "execution_count": 12,
   "metadata": {},
   "outputs": [
    {
     "data": {
      "text/plain": [
       "{'Name': 'Sainath',\n",
       " 'Emp Details': ['Business Analyst', 750000, 'L&T Infotech'],\n",
       " 'Address': ('Moula Nagar', 'Gollapudie', 521225)}"
      ]
     },
     "execution_count": 12,
     "metadata": {},
     "output_type": "execute_result"
    }
   ],
   "source": [
    "# Replacing the element in the data dictionary.\n",
    "\n",
    "my_dict2[\"Emp Details\"][1] = 750000\n",
    "\n",
    "my_dict2"
   ]
  },
  {
   "cell_type": "markdown",
   "metadata": {},
   "source": [
    "# Delete elements from a dictionary\n",
    "\n",
    "* There are 4 methods to delete the elements from a dictionary based on the key value.\n",
    " * pop() method\n",
    " * popitem () method\n",
    " * del keyword method\n",
    " * clear() method.\n",
    "\n",
    "* pop() method - Remove the item from the dictionary based on key. If the key is not found \"KeyError\" will be thrown. It will also returns the removed value.\n",
    "\n",
    "* popitem() method - It will remove the last item from the dictionary. It will retrun the key and value of the deleted item.\n",
    "\n",
    "* del keyword - It is used to delete either single  keyword from the dictionary or the entire dictionary based on \"key\".\n",
    "* Note: By using pop and del we can delete the element based on the \"key\". But it we want to delete entire dictionary then we will use \"del\" method instead of pop() method.\n",
    "\n",
    "* Clear () method - All items can be removed without removing the dictionary.I.e., if we want to clear the dictionary and want to reuse the dictionary."
   ]
  },
  {
   "cell_type": "code",
   "execution_count": 36,
   "metadata": {},
   "outputs": [
    {
     "name": "stdout",
     "output_type": "stream",
     "text": [
      "34\n",
      "The updated dicitionary after deleting the element is {'Name': 'Sainath', 'Address': 'Vijayawada', 'Phone No': '+91-630041638'}\n"
     ]
    },
    {
     "ename": "KeyError",
     "evalue": "'Email'",
     "output_type": "error",
     "traceback": [
      "\u001b[1;31m---------------------------------------------------------------------------\u001b[0m",
      "\u001b[1;31mKeyError\u001b[0m                                  Traceback (most recent call last)",
      "\u001b[1;32m<ipython-input-36-2534fb87d11e>\u001b[0m in \u001b[0;36m<module>\u001b[1;34m\u001b[0m\n\u001b[0;32m      6\u001b[0m \u001b[0mprint\u001b[0m\u001b[1;33m(\u001b[0m\u001b[1;34m\"The updated dicitionary after deleting the element is\"\u001b[0m\u001b[1;33m,\u001b[0m\u001b[0mEmpdetails\u001b[0m\u001b[1;33m)\u001b[0m\u001b[1;33m\u001b[0m\u001b[1;33m\u001b[0m\u001b[0m\n\u001b[0;32m      7\u001b[0m \u001b[1;33m\u001b[0m\u001b[0m\n\u001b[1;32m----> 8\u001b[1;33m \u001b[0mprint\u001b[0m\u001b[1;33m(\u001b[0m\u001b[0mEmpdetails\u001b[0m\u001b[1;33m.\u001b[0m\u001b[0mpop\u001b[0m\u001b[1;33m(\u001b[0m\u001b[1;34m'Email'\u001b[0m\u001b[1;33m)\u001b[0m\u001b[1;33m)\u001b[0m  \u001b[1;31m# If the key value is not found then we will get \"KeyError\".\u001b[0m\u001b[1;33m\u001b[0m\u001b[1;33m\u001b[0m\u001b[0m\n\u001b[0m",
      "\u001b[1;31mKeyError\u001b[0m: 'Email'"
     ]
    }
   ],
   "source": [
    "# Example : 11 - Deleting the key vlaue using pop() method.\n",
    "\n",
    "Empdetails = {'Name' : \"Sainath\",'Age' : 34, 'Address' : \"Vijayawada\", 'Phone No' : \"+91-630041638\"}\n",
    "\n",
    "print(Empdetails.pop('Age'))   # It will return the deleted value.\n",
    "print(\"The updated dicitionary after deleting the element is\",Empdetails)\n",
    "\n",
    "print(Empdetails.pop('Email'))  # If the key value is not found then we will get \"KeyError\"."
   ]
  },
  {
   "cell_type": "code",
   "execution_count": 38,
   "metadata": {},
   "outputs": [
    {
     "name": "stdout",
     "output_type": "stream",
     "text": [
      "('Address', 'Vijayawada')\n",
      "The updated dictionary after using popitem method is {'Name': 'Sainath'}\n"
     ]
    }
   ],
   "source": [
    "# Example : 12 - Deleting the item using popitem() method.\n",
    " \n",
    "print(Empdetails.popitem())  \n",
    "\n",
    "print(\"The updated dictionary after using popitem method is\",Empdetails)\n"
   ]
  },
  {
   "cell_type": "code",
   "execution_count": 44,
   "metadata": {},
   "outputs": [
    {
     "name": "stdout",
     "output_type": "stream",
     "text": [
      "{1: 1, 2: 8, 3: 27, 5: 125}\n"
     ]
    },
    {
     "ename": "NameError",
     "evalue": "name 'Cube' is not defined",
     "output_type": "error",
     "traceback": [
      "\u001b[1;31m---------------------------------------------------------------------------\u001b[0m",
      "\u001b[1;31mNameError\u001b[0m                                 Traceback (most recent call last)",
      "\u001b[1;32m<ipython-input-44-67087e8227dc>\u001b[0m in \u001b[0;36m<module>\u001b[1;34m\u001b[0m\n\u001b[0;32m      9\u001b[0m \u001b[1;31m# Deleting the entire dictionary.\u001b[0m\u001b[1;33m\u001b[0m\u001b[1;33m\u001b[0m\u001b[1;33m\u001b[0m\u001b[0m\n\u001b[0;32m     10\u001b[0m \u001b[1;32mdel\u001b[0m \u001b[0mCube\u001b[0m\u001b[1;33m\u001b[0m\u001b[1;33m\u001b[0m\u001b[0m\n\u001b[1;32m---> 11\u001b[1;33m \u001b[0mprint\u001b[0m\u001b[1;33m(\u001b[0m\u001b[0mCube\u001b[0m\u001b[1;33m)\u001b[0m\u001b[1;33m\u001b[0m\u001b[1;33m\u001b[0m\u001b[0m\n\u001b[0m",
      "\u001b[1;31mNameError\u001b[0m: name 'Cube' is not defined"
     ]
    }
   ],
   "source": [
    "# Example : 13 - Deleting using \"del\" keyword.\n",
    "\n",
    "Cube = { 1:1, 2:8, 3:27, 4:64, 5:125}\n",
    "\n",
    "# Delete particular key\n",
    "del Cube[4]  # We are deleting the 4th key from the dictionary.\n",
    "print(Cube)\n",
    "\n",
    "# Deleting the entire dictionary.\n",
    "del Cube\n",
    "print(Cube)"
   ]
  },
  {
   "cell_type": "code",
   "execution_count": 49,
   "metadata": {},
   "outputs": [
    {
     "name": "stdout",
     "output_type": "stream",
     "text": [
      "The empty dictionary after deleting all the keys values is {}\n"
     ]
    }
   ],
   "source": [
    "# Example : 14 - Deleting using clear()\n",
    "\n",
    "Cube = { 1:1, 2:8, 3:27, 4:64, 5:125}\n",
    "\n",
    "Cube.clear()\n",
    "print(\"The empty dictionary after deleting all the keys values is\",Cube)"
   ]
  },
  {
   "cell_type": "markdown",
   "metadata": {},
   "source": [
    "# Looping item in the dictionary\n",
    "\n",
    "* We can use \"for\" loop to display the list of data elements available in the dictioanry. The iteration is based on the key vlaue. For loop  will check the key value and iterate the loop furhter."
   ]
  },
  {
   "cell_type": "code",
   "execution_count": 56,
   "metadata": {},
   "outputs": [
    {
     "name": "stdout",
     "output_type": "stream",
     "text": [
      "Cube of 1 is 1\n",
      "Cube of 2 is 8\n",
      "Cube of 3 is 27\n",
      "Cube of 4 is 64\n",
      "Cube of 5 is 125\n"
     ]
    }
   ],
   "source": [
    "# Example : 15 - Using \"for\" loop.\n",
    "\n",
    "Cube = {1:1, 2:8, 3:27, 4:64, 5:125}\n",
    "\n",
    "for num in Cube:\n",
    "    print(\"Cube of\",num,\"is\",Cube[num])\n",
    "\n",
    "# Note: The first num will capture the key vlaue and the second num will copture the value of the key value."
   ]
  },
  {
   "cell_type": "markdown",
   "metadata": {},
   "source": [
    "# Dictionary methods"
   ]
  },
  {
   "cell_type": "code",
   "execution_count": 60,
   "metadata": {},
   "outputs": [
    {
     "name": "stdout",
     "output_type": "stream",
     "text": [
      "The no.of elements present in the given dictionary are 4\n"
     ]
    }
   ],
   "source": [
    "# Method : 1 - To find the number of elements in the dictionary.\n",
    "\n",
    "Empdetails = {'Name' : \"Sainath\",'Age' : 34, 'Address' : \"Vijayawada\", 'Phone No' : \"+91-630041638\"}\n",
    "print(\"The no.of elements present in the given dictionary are\", len(Empdetails))"
   ]
  },
  {
   "cell_type": "code",
   "execution_count": 62,
   "metadata": {},
   "outputs": [
    {
     "name": "stdout",
     "output_type": "stream",
     "text": [
      "True\n",
      "True\n"
     ]
    }
   ],
   "source": [
    "# Method : 2 - Membership - \"In and Not In operator\" based on \"key\" value.\n",
    "\n",
    "# Using \"in\" operator\n",
    "print('Name' in Empdetails)\n",
    "\n",
    "# Using \"not in\" operator\n",
    "print('Email' not in Empdetails)"
   ]
  },
  {
   "cell_type": "code",
   "execution_count": 66,
   "metadata": {},
   "outputs": [
    {
     "name": "stdout",
     "output_type": "stream",
     "text": [
      "After sorting the data elements in ascending order: ['a', 'e', 'i', 'o', 'u']\n",
      "After sorting the data elements in decending order: ['u', 'o', 'i', 'e', 'a']\n"
     ]
    }
   ],
   "source": [
    "# Method : 3 - Sorted () - Arrange the elements in the dictionary either in ascending or decending order based on \"Key\"\n",
    "\n",
    "Vowels = {'e':1, 'a':2, 'u':3, 'o':4, 'i':5}\n",
    "\n",
    "# Ascending order\n",
    "print(\"After sorting the data elements in ascending order:\", sorted(Vowels))\n",
    "\n",
    "# Decending order\n",
    "print(\"After sorting the data elements in decending order:\", sorted(Vowels, reverse = True))\n"
   ]
  },
  {
   "cell_type": "code",
   "execution_count": 69,
   "metadata": {},
   "outputs": [
    {
     "name": "stdout",
     "output_type": "stream",
     "text": [
      "The list of kyes available in the dictionary dict_keys(['key1', 'key2', 'key3'])\n"
     ]
    }
   ],
   "source": [
    "# Method : 4 - To return a list of all keys available in the dictionary\n",
    "\n",
    "dict = {\"key1\" : \"Value1\",\"key2\" : \"value2\",\"key3\": \"value3\"}\n",
    "print(\"The list of kyes available in the dictionary\",dict.keys())"
   ]
  },
  {
   "cell_type": "code",
   "execution_count": 70,
   "metadata": {},
   "outputs": [
    {
     "name": "stdout",
     "output_type": "stream",
     "text": [
      "The list of kyes available in the dictionary dict_values(['Value1', 'value2', 'value3'])\n"
     ]
    }
   ],
   "source": [
    "# Method : 5 - To return all the values available in the dictionary\n",
    "\n",
    "print(\"The list of kyes available in the dictionary\",dict.values())"
   ]
  },
  {
   "cell_type": "code",
   "execution_count": 72,
   "metadata": {},
   "outputs": [
    {
     "name": "stdout",
     "output_type": "stream",
     "text": [
      "The key and values available in the given dictionary is dict_items([('key1', 'Value1'), ('key2', 'value2'), ('key3', 'value3')])\n"
     ]
    }
   ],
   "source": [
    "# Method : 6 - To return all the keys and values in temrs of list i.e., which will return all the pair of items inside the dictionary in shape of list.\n",
    "\n",
    "print(\"The key and values available in the given dictionary is\", dict.items())"
   ]
  },
  {
   "cell_type": "code",
   "execution_count": 74,
   "metadata": {},
   "outputs": [
    {
     "name": "stdout",
     "output_type": "stream",
     "text": [
      "The copied dictionary is : {'Name': 'Sainath', 'Age': 34, 'Address': 'Vijayawada', 'Phone No': '+91-630041638'}\n",
      "The original dictioinary is : {'Name': 'Sainath', 'Age': 34, 'Address': 'Vijayawada', 'Phone No': '+91-630041638'}\n"
     ]
    }
   ],
   "source": [
    "# Method : 7 - Copy() method - If we want to copy the dictionary\n",
    "\n",
    "Empdetails = {'Name' : \"Sainath\",'Age' : 34, 'Address' : \"Vijayawada\", 'Phone No' : \"+91-630041638\"}\n",
    "\n",
    "Emp1 = Empdetails.copy()\n",
    "\n",
    "print(\"The copied dictionary is :\", Emp1)\n",
    "print(\"The original dictioinary is :\", Empdetails)"
   ]
  },
  {
   "cell_type": "code",
   "execution_count": 80,
   "metadata": {},
   "outputs": [
    {
     "name": "stdout",
     "output_type": "stream",
     "text": [
      "The dictionary with update value is {'Brand': 'Audi', 'Model': 'A7', 'Year': 2019, 'Color': 'Blue'}\n"
     ]
    }
   ],
   "source": [
    "# Method : 8 - Updaate() - Inserts the specified items to the dictionary at the end, if the vlaue is not present.\n",
    "# In case if the value is already exist, it will be updated with new value.\n",
    "# The specified items can be a dictionary, or an iterable object.\n",
    "\n",
    "\n",
    "# Inserting the new value\n",
    "# Dictionary with car details\n",
    "Car = {\"Brand\" : \"Audi\", \"Model\": \"A7\", \"Year\" : 2019}\n",
    "\n",
    "Car.update({'Color' : 'Blue'})\n",
    "print(\"The dictionary with update value is\",Car)"
   ]
  },
  {
   "cell_type": "code",
   "execution_count": 27,
   "metadata": {},
   "outputs": [
    {
     "ename": "NameError",
     "evalue": "name 'my_dict2' is not defined",
     "output_type": "error",
     "traceback": [
      "\u001b[1;31m---------------------------------------------------------------------------\u001b[0m",
      "\u001b[1;31mNameError\u001b[0m                                 Traceback (most recent call last)",
      "\u001b[1;32m<ipython-input-27-c2b9d809d1ba>\u001b[0m in \u001b[0;36m<module>\u001b[1;34m\u001b[0m\n\u001b[0;32m      1\u001b[0m \u001b[1;31m# Calling methods to a dictionary.\u001b[0m\u001b[1;33m\u001b[0m\u001b[1;33m\u001b[0m\u001b[1;33m\u001b[0m\u001b[0m\n\u001b[0;32m      2\u001b[0m \u001b[1;33m\u001b[0m\u001b[0m\n\u001b[1;32m----> 3\u001b[1;33m \u001b[0mmy_dict2\u001b[0m\u001b[1;33m[\u001b[0m\u001b[1;34m\"Name\"\u001b[0m\u001b[1;33m]\u001b[0m\u001b[1;33m.\u001b[0m\u001b[0mupper\u001b[0m\u001b[1;33m(\u001b[0m\u001b[1;33m)\u001b[0m\u001b[1;33m\u001b[0m\u001b[1;33m\u001b[0m\u001b[0m\n\u001b[0m\u001b[0;32m      4\u001b[0m \u001b[1;33m\u001b[0m\u001b[0m\n\u001b[0;32m      5\u001b[0m \u001b[0mmy_dict2\u001b[0m\u001b[1;33m\u001b[0m\u001b[1;33m\u001b[0m\u001b[0m\n",
      "\u001b[1;31mNameError\u001b[0m: name 'my_dict2' is not defined"
     ]
    }
   ],
   "source": [
    "# Calling methods to a dictionary.\n",
    "\n",
    "my_dict2[\"Name\"].upper()\n",
    "\n",
    "my_dict2"
   ]
  },
  {
   "cell_type": "code",
   "execution_count": 20,
   "metadata": {},
   "outputs": [
    {
     "data": {
      "text/plain": [
       "dict"
      ]
     },
     "execution_count": 20,
     "metadata": {},
     "output_type": "execute_result"
    }
   ],
   "source": [
    "# Create a new dictionary\n",
    "\n",
    "my_dict3 = {}\n",
    "type(my_dict3)"
   ]
  },
  {
   "cell_type": "code",
   "execution_count": 27,
   "metadata": {},
   "outputs": [
    {
     "data": {
      "text/plain": [
       "{'Animal': 'Elephant', 'Small Animal': 'Dog', 'Big Animal': 'Elephant'}"
      ]
     },
     "execution_count": 27,
     "metadata": {},
     "output_type": "execute_result"
    }
   ],
   "source": [
    "# Create a new key through assignment operator.\n",
    "\n",
    "my_dict3['Small Animal'] = \"Dog\"\n",
    "my_dict3['Big Animal'] = \"Elephant\"\n",
    "\n",
    "my_dict3"
   ]
  },
  {
   "cell_type": "markdown",
   "metadata": {},
   "source": [
    "# Nesting Dictionary\n",
    "\n",
    "We can use a dictionary with in a dictionary. This concept is known as \"Nesting Dictionary\"."
   ]
  },
  {
   "cell_type": "code",
   "execution_count": 34,
   "metadata": {},
   "outputs": [],
   "source": [
    "# Example : Create a nested dictionary\n",
    "\n",
    "nest_dict = {\"key1\" : {\"Nestkey\" : {\"Subnestkey\" : \"Value1\"}}}"
   ]
  },
  {
   "cell_type": "code",
   "execution_count": 37,
   "metadata": {},
   "outputs": [
    {
     "data": {
      "text/plain": [
       "'Value1'"
      ]
     },
     "execution_count": 37,
     "metadata": {},
     "output_type": "execute_result"
    }
   ],
   "source": [
    "# Calling the vlaue from the dictionary\n",
    "\n",
    "nest_dict[\"key1\"][\"Nestkey\"][\"Subnestkey\"]"
   ]
  },
  {
   "cell_type": "markdown",
   "metadata": {},
   "source": [
    "# Dictionary Comprehensions\n",
    "\n",
    "Just like list comprehensions, Dictionary Data Types also support their own version of comprehension for quick."
   ]
  },
  {
   "cell_type": "code",
   "execution_count": 45,
   "metadata": {},
   "outputs": [
    {
     "data": {
      "text/plain": [
       "{0: 0, 1: 1, 2: 4, 3: 9, 4: 16, 5: 25, 6: 36, 7: 49, 8: 64, 9: 81, 10: 100}"
      ]
     },
     "execution_count": 45,
     "metadata": {},
     "output_type": "execute_result"
    }
   ],
   "source": [
    "# Example : create a data dictionary with values from 0 to 10 where number is the key and the square of the number as value.\n",
    "\n",
    "Square_dict = {x:x**2 for x in range(11)}\n",
    "\n",
    "Square_dict"
   ]
  },
  {
   "cell_type": "code",
   "execution_count": 49,
   "metadata": {},
   "outputs": [
    {
     "data": {
      "text/plain": [
       "{0: 0.0, 1: 0.5, 2: 1.0, 3: 1.5, 4: 2.0, 5: 2.5, 6: 3.0, 7: 3.5}"
      ]
     },
     "execution_count": 49,
     "metadata": {},
     "output_type": "execute_result"
    }
   ],
   "source": [
    "Div_dict = {x:x/2 for x in range(8)}\n",
    "\n",
    "Div_dict"
   ]
  },
  {
   "cell_type": "code",
   "execution_count": null,
   "metadata": {},
   "outputs": [],
   "source": [
    "d = datetime.datetime(2017,4,7)\n",
    "print('{:%B-%d}')"
   ]
  }
 ],
 "metadata": {
  "kernelspec": {
   "display_name": "Python 3",
   "language": "python",
   "name": "python3"
  },
  "language_info": {
   "codemirror_mode": {
    "name": "ipython",
    "version": 3
   },
   "file_extension": ".py",
   "mimetype": "text/x-python",
   "name": "python",
   "nbconvert_exporter": "python",
   "pygments_lexer": "ipython3",
   "version": "3.7.4"
  }
 },
 "nbformat": 4,
 "nbformat_minor": 2
}
