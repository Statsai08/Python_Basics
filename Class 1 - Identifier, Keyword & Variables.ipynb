{
 "cells": [
  {
   "cell_type": "markdown",
   "metadata": {},
   "source": [
    "# Python Identifiers\n",
    "\n",
    "* Python identifier is a name used to identify a variable, function, class, module or other objects. \n",
    "        ( OR ) \n",
    "* A name in python program is called as “Identifier” which can be used for identification purpose like variable, function, class, module soon as."
   ]
  },
  {
   "cell_type": "markdown",
   "metadata": {},
   "source": [
    "# Rules for Identifiers:\n",
    "\n",
    "* An identifier is a sequence of letters such as uppercase, lowercase, digits and an underscore i.e., alphanumeric characters.\n",
    "* It doesn’t allow punctuation characters such as @, $, and % with in identifiers.\n",
    "* It is a case sensitive.\n",
    "* It can’t start with a digit.\n",
    "* It can start with underscore(\"_\").\n",
    "* Reserved words can’t be used as identifiers."
   ]
  },
  {
   "cell_type": "markdown",
   "metadata": {},
   "source": [
    "# Rule 1 Example \n",
    "* We can use all upper case or lower case or we can use digits or we can use underscore \n",
    "\n",
    "* EMPLOYEENAME\n",
    "* employeename\n",
    "* employee_name (Mostly used format)\n",
    "* employeename1"
   ]
  },
  {
   "cell_type": "markdown",
   "metadata": {},
   "source": [
    "# Rule 2 Example i.e., Invalid identifier\n",
    "\n",
    "* employeename@\n",
    "* employeename$\n",
    "* employeename%     \n",
    "\n",
    "* Note: When we execute the code python will throw an error like \"Invalid\" syntax."
   ]
  },
  {
   "cell_type": "code",
   "execution_count": 9,
   "metadata": {},
   "outputs": [
    {
     "name": "stdout",
     "output_type": "stream",
     "text": [
      "Sainath\n",
      "Mohan\n"
     ]
    }
   ],
   "source": [
    "# Rule 3 Example -  Identifiers are case sensitive\n",
    "\n",
    "ABC = \"Sainath\"\n",
    "abc = \"Mohan\"\n",
    "\n",
    "print(ABC)\n",
    "print(abc)"
   ]
  },
  {
   "cell_type": "code",
   "execution_count": 10,
   "metadata": {},
   "outputs": [
    {
     "ename": "SyntaxError",
     "evalue": "invalid syntax (<ipython-input-10-338c4c605e37>, line 2)",
     "output_type": "error",
     "traceback": [
      "\u001b[1;36m  File \u001b[1;32m\"<ipython-input-10-338c4c605e37>\"\u001b[1;36m, line \u001b[1;32m2\u001b[0m\n\u001b[1;33m    1Employee = \"Sainath\"\u001b[0m\n\u001b[1;37m            ^\u001b[0m\n\u001b[1;31mSyntaxError\u001b[0m\u001b[1;31m:\u001b[0m invalid syntax\n"
     ]
    }
   ],
   "source": [
    "# Rule 4 Example - Identifiers can't start with a digit\n",
    "1Employee = \"Sainath\""
   ]
  },
  {
   "cell_type": "code",
   "execution_count": 11,
   "metadata": {},
   "outputs": [
    {
     "ename": "SyntaxError",
     "evalue": "invalid syntax (<ipython-input-11-b6eeb5ee58bd>, line 2)",
     "output_type": "error",
     "traceback": [
      "\u001b[1;36m  File \u001b[1;32m\"<ipython-input-11-b6eeb5ee58bd>\"\u001b[1;36m, line \u001b[1;32m2\u001b[0m\n\u001b[1;33m    if = \"\"\u001b[0m\n\u001b[1;37m       ^\u001b[0m\n\u001b[1;31mSyntaxError\u001b[0m\u001b[1;31m:\u001b[0m invalid syntax\n"
     ]
    }
   ],
   "source": [
    "#  Rule 5 Example - We can't use the reserver keywords as identifier names.\n",
    "if = \"\"\n",
    "while = \"\"  \n"
   ]
  },
  {
   "cell_type": "markdown",
   "metadata": {},
   "source": [
    "# Reserved Keywords\n",
    "\n",
    "\n",
    "* In python some words are reserved to present some meanings or functionality are knowns as “Reserved keywords”.\n",
    "\n",
    "* Ex :To import a library we use reserved keyword “import”.To print the output we use reserved keyword \"print\".\n",
    "\n",
    "** Rules for reserved keywords:\n",
    "* All python keywords must be in lowercase letters only. (Except \"False\",\"True\" and \"None\")\n",
    "* It can’t use them as constant or variable or any other identifier names."
   ]
  },
  {
   "cell_type": "code",
   "execution_count": 17,
   "metadata": {},
   "outputs": [
    {
     "name": "stdout",
     "output_type": "stream",
     "text": [
      "['False', 'None', 'True', 'and', 'as', 'assert', 'async', 'await', 'break', 'class', 'continue', 'def', 'del', 'elif', 'else', 'except', 'finally', 'for', 'from', 'global', 'if', 'import', 'in', 'is', 'lambda', 'nonlocal', 'not', 'or', 'pass', 'raise', 'return', 'try', 'while', 'with', 'yield']\n",
      "35\n"
     ]
    }
   ],
   "source": [
    "# Program to print all the reserved keywords\n",
    "\n",
    "import keyword        # Keyword is the library (Means it's collection of functions and methods that allow to perform many action)\n",
    "                      # where all the reserved keywords will be saved. To call the libray we use a statement import\n",
    "print(keyword.kwlist) # Kwlist is a function which can print all the keywords available in python. \n",
    "\n",
    "# Total count of keywords\n",
    "\n",
    "print(len(keyword.kwlist))  # length (len) is the function which is used to find total no. of values available.\n",
    "\n",
    "# In most of the python tutorials they said 33 keyword. But recently 2 new keywords are added. 1.async  2.await.\n",
    "# So totally we have 35 keywords.\n"
   ]
  },
  {
   "cell_type": "code",
   "execution_count": 21,
   "metadata": {},
   "outputs": [
    {
     "name": "stdout",
     "output_type": "stream",
     "text": [
      "True is a python keyword\n",
      "def is a python keyword\n",
      "Mohan is a not a python keyword\n"
     ]
    }
   ],
   "source": [
    "# A sample to program to check whether the given string is a keyword or not.\n",
    "\n",
    "# Step-1  Importing the required library\n",
    "\n",
    "import keyword\n",
    "\n",
    "# Step-2 Initializing the string for testing\n",
    "\n",
    "S1 = \"True\"  # Represent a boolean true. If the statement is true, \"True\" is printed.\n",
    "S2 = \"def\"   # Used to define a user defined function.\n",
    "S3 = \"Mohan\"\n",
    "\n",
    "# Step-3 Checking which are the keywords\n",
    "\n",
    "if keyword.iskeyword(S1):                  # iskeyword is the function which checks if the string is keyword or not.\n",
    "    print(S1 + \" is a python keyword\")     # It returns true if it's a keyword otherwise returns false.\n",
    "else:\n",
    "    print(S1 + \" is a not a python keyword\")\n",
    "    \n",
    "if keyword.iskeyword(S2):\n",
    "    print(S2 +  \" is a python keyword\")\n",
    "else:\n",
    "    print(S2 +  \" is a not a python keyword\")\n",
    "\n",
    "if keyword.iskeyword(S3):\n",
    "    print(S3 +  \" is a python keyword\")\n",
    "else:\n",
    "    print(S3 +  \" is a not a python keyword\")\n",
    "\n",
    "\n"
   ]
  },
  {
   "cell_type": "code",
   "execution_count": 22,
   "metadata": {},
   "outputs": [],
   "source": [
    "# Defining a function to identify whether a string is a keyword or not\n",
    "\n",
    "def kw(x):\n",
    "    if keyword.iskeyword(x):\n",
    "        print(x + \" is a python keyword\")\n",
    "    else:\n",
    "        print(x + \" is not a python keyword\")"
   ]
  },
  {
   "cell_type": "code",
   "execution_count": 23,
   "metadata": {},
   "outputs": [
    {
     "name": "stdout",
     "output_type": "stream",
     "text": [
      "True is a python keyword\n"
     ]
    }
   ],
   "source": [
    "kw(S1)"
   ]
  },
  {
   "cell_type": "code",
   "execution_count": 24,
   "metadata": {},
   "outputs": [
    {
     "name": "stdout",
     "output_type": "stream",
     "text": [
      "False\n",
      "Lakhmi is not a python keyword\n"
     ]
    }
   ],
   "source": [
    "S4 = \"Lakhmi\"\n",
    "\n",
    "print(keyword.iskeyword(S4))\n",
    "\n",
    "kw(S4)"
   ]
  },
  {
   "cell_type": "markdown",
   "metadata": {},
   "source": [
    "# Variables  in Python\n",
    "\n",
    "* Variables are the reserved memory location to store the values (data).\n",
    "* Means that when we create a variable it will create (or) assign (or) reserve some space in Random Access Memory (RAM).\n",
    "* The value of the variable will be saved by python in RAM.\n",
    "* We can check the address of the location using \"id\"\n",
    "\n",
    "**** Rules for python variables: \n",
    "* It’s a sequence of letters such as uppercases, lowercases, digits and an underscore i.e., alpha numeric.\n",
    "* It doesn’t allow punctuation characters such as @, $, and % with in identifiers.\n",
    "* It is a case sensitive.(Ex: Students and students are different)\n",
    "* It can’t start with a digit.(Python thinks its a number. 1student is not valid. student1 is valid)\n",
    "* Reserved words can’t be used as identifiers"
   ]
  },
  {
   "cell_type": "markdown",
   "metadata": {},
   "source": [
    "# Creating and assigning values to a variable\n",
    "\n",
    "* A variable is created the moment we first assign value to it. The equal (=) is used to assign values to the variables."
   ]
  },
  {
   "cell_type": "code",
   "execution_count": 22,
   "metadata": {},
   "outputs": [],
   "source": [
    "# Declaring a variable\n",
    "RollNo = 50 # Roll No is a integer type\n",
    "Name = \"Sainath\" # Name is a string type\n",
    "Marks = 85.7  # Marks is a float type\n",
    "Complex = 5+3j  # Real number + Imaginary Number = Complex Number\n",
    "Bool1 = True\n",
    "Bool2 = False"
   ]
  },
  {
   "cell_type": "code",
   "execution_count": 12,
   "metadata": {},
   "outputs": [
    {
     "data": {
      "text/plain": [
       "'Sainath'"
      ]
     },
     "execution_count": 12,
     "metadata": {},
     "output_type": "execute_result"
    }
   ],
   "source": [
    "# Note: Whenever we create a string varible either in single (or) double quotes, python will print the string data in \"Single Quotes\" only.\n",
    "\n",
    "Name"
   ]
  },
  {
   "cell_type": "code",
   "execution_count": 33,
   "metadata": {},
   "outputs": [
    {
     "name": "stdout",
     "output_type": "stream",
     "text": [
      "50 Sainath 85.7 (5+3j)\n",
      "5.0\n",
      "3.0\n",
      "<class 'int'>\n",
      "<class 'str'>\n",
      "<class 'float'>\n",
      "<class 'complex'>\n",
      "<class 'bool'>\n",
      "<class 'bool'>\n"
     ]
    }
   ],
   "source": [
    "# Printing the values of the multiple variables uisng print statement\n",
    "print(RollNo,Name,Marks,Complex)\n",
    "\n",
    "# Printing Real and Imaginary number from a complex number.\n",
    "print(Complex.real)\n",
    "print(Complex.imag)\n",
    "\n",
    "\n",
    "# Checking the datatype of the variable created.\n",
    "\n",
    "# type() - Is a python defined function which is used to check the data type.\n",
    "\n",
    "print(type(RollNo))\n",
    "print(type(Name))\n",
    "print(type(Marks))\n",
    "print(type(Complex))\n",
    "print(type(Bool1))\n",
    "print(type(Bool2))"
   ]
  },
  {
   "cell_type": "code",
   "execution_count": 24,
   "metadata": {},
   "outputs": [
    {
     "name": "stdout",
     "output_type": "stream",
     "text": [
      "Sainath\n",
      "AH13999\n",
      "Amma@143me\n",
      "buragadda.sainath@gmail.com\n"
     ]
    }
   ],
   "source": [
    "name = \"Sainath\"\n",
    "userid = \"AH13999\"\n",
    "password = \"Amma@143me\"\n",
    "mail = \"buragadda.sainath@gmail.com\"\n",
    "\n",
    "print(name)\n",
    "print(userid)\n",
    "print(password)\n",
    "print(mail)"
   ]
  },
  {
   "cell_type": "code",
   "execution_count": 30,
   "metadata": {},
   "outputs": [
    {
     "name": "stdout",
     "output_type": "stream",
     "text": [
      "4\n",
      "2\n"
     ]
    },
    {
     "ename": "ZeroDivisionError",
     "evalue": "division by zero",
     "output_type": "error",
     "traceback": [
      "\u001b[1;31m---------------------------------------------------------------------------\u001b[0m",
      "\u001b[1;31mZeroDivisionError\u001b[0m                         Traceback (most recent call last)",
      "\u001b[1;32m<ipython-input-30-b08203c6ea4b>\u001b[0m in \u001b[0;36m<module>\u001b[1;34m\u001b[0m\n\u001b[0;32m      5\u001b[0m \u001b[0mprint\u001b[0m\u001b[1;33m(\u001b[0m\u001b[1;32mFalse\u001b[0m \u001b[1;33m-\u001b[0m \u001b[1;32mTrue\u001b[0m \u001b[1;33m+\u001b[0m \u001b[1;32mTrue\u001b[0m \u001b[1;33m+\u001b[0m \u001b[1;32mTrue\u001b[0m \u001b[1;33m-\u001b[0m \u001b[1;32mFalse\u001b[0m \u001b[1;33m+\u001b[0m \u001b[1;32mTrue\u001b[0m\u001b[1;33m)\u001b[0m\u001b[1;33m\u001b[0m\u001b[1;33m\u001b[0m\u001b[0m\n\u001b[0;32m      6\u001b[0m \u001b[1;33m\u001b[0m\u001b[0m\n\u001b[1;32m----> 7\u001b[1;33m \u001b[0mprint\u001b[0m\u001b[1;33m(\u001b[0m\u001b[1;32mTrue\u001b[0m \u001b[1;33m/\u001b[0m \u001b[1;32mFalse\u001b[0m\u001b[1;33m)\u001b[0m  \u001b[1;31m# We get \"ZeroDivisonError\"\u001b[0m\u001b[1;33m\u001b[0m\u001b[1;33m\u001b[0m\u001b[0m\n\u001b[0m",
      "\u001b[1;31mZeroDivisionError\u001b[0m: division by zero"
     ]
    }
   ],
   "source": [
    "# Boolean value\n",
    "\n",
    "print(True + True + False + True + True)\n",
    "\n",
    "print(False - True + True + True - False + True)\n",
    "\n",
    "print(True / False)  # We get \"ZeroDivisonError\""
   ]
  },
  {
   "cell_type": "code",
   "execution_count": 26,
   "metadata": {},
   "outputs": [
    {
     "data": {
      "text/plain": [
       "0"
      ]
     },
     "execution_count": 26,
     "metadata": {},
     "output_type": "execute_result"
    }
   ],
   "source": [
    "False - True + True"
   ]
  },
  {
   "cell_type": "markdown",
   "metadata": {},
   "source": [
    "# Advantages of python:\n",
    "\n",
    "* The main advantage of python is that there no need to declare the data type which can happen in other programs.When we create a variable, python by default assign the data types based on the values. \n",
    "* In simple terms we can define 'Python is a dynamic programing language'.\n",
    "* Python is also known as \"Strong typing\" where we can't defining the data types of the variable.\n",
    "* Based on the data type of the variable, the interpreter allocates memory and decides what can be stored in the reserved memory."
   ]
  },
  {
   "cell_type": "markdown",
   "metadata": {},
   "source": [
    "# Multiple Assignment"
   ]
  },
  {
   "cell_type": "code",
   "execution_count": 15,
   "metadata": {},
   "outputs": [
    {
     "name": "stdout",
     "output_type": "stream",
     "text": [
      "10 20 30 40\n"
     ]
    }
   ],
   "source": [
    "# 1: Multiple varaible in a single row with same data types\n",
    "a,b,c,d=10,20,30,40\n",
    "print(a,b,c,d)"
   ]
  },
  {
   "cell_type": "code",
   "execution_count": 16,
   "metadata": {},
   "outputs": [
    {
     "name": "stdout",
     "output_type": "stream",
     "text": [
      "9446 Saianth 85.5\n"
     ]
    }
   ],
   "source": [
    "# 2: Multiple variable in a single row with different data types\n",
    "Rollnumber,Name,Marks = 9446,\"Saianth\",85.5\n",
    "print(Rollnumber,Name,Marks)"
   ]
  },
  {
   "cell_type": "code",
   "execution_count": 17,
   "metadata": {},
   "outputs": [
    {
     "name": "stdout",
     "output_type": "stream",
     "text": [
      "Predicted Model Predicted Model Predicted Model\n"
     ]
    }
   ],
   "source": [
    "# 3: Single value to several variables\n",
    "Model1=Model2=Model3=\"Predicted Model\"\n",
    "print(Model1,Model2,Model3)"
   ]
  },
  {
   "cell_type": "code",
   "execution_count": 4,
   "metadata": {},
   "outputs": [
    {
     "name": "stdout",
     "output_type": "stream",
     "text": [
      "1Sainath\n",
      "1Sainath\n"
     ]
    }
   ],
   "source": [
    "# Concatination\n",
    "\n",
    "print(str(1) + \"Sainath\")\n",
    "\n",
    "\n",
    "print('1' + \"Sainath\")\n",
    "\n",
    "# This kind of coding is known as a \"Strong typing\". It's supports strong and dynamic(With out assinging data type) typing."
   ]
  },
  {
   "cell_type": "code",
   "execution_count": 11,
   "metadata": {},
   "outputs": [
    {
     "name": "stdout",
     "output_type": "stream",
     "text": [
      "2.0\n",
      "2\n",
      "45.0\n",
      "6.0\n"
     ]
    }
   ],
   "source": [
    "Sum = 1 + 1.0 \n",
    "# Whenever we add an integer and floating value the result will be 'Float value. This process if known as \"Upcasting\"\n",
    "# By default float value will occupy more space or more bitwise as compared to integer value.\n",
    "print(Sum)\n",
    "\n",
    "Sum1 =  1 + 1\n",
    "print(Sum1)\n",
    "\n",
    "C = 45+6j\n",
    "print(C.real)  # By default when we print the real number or imaginary number the result will be \"Floating number.\"\n",
    "print(C.imag)  # By default it is tring to do the self upcasting."
   ]
  },
  {
   "cell_type": "markdown",
   "metadata": {},
   "source": [
    "# Memory allocation\n",
    "\n",
    "* We use id to check the memory address allocation of the variable which is assigned by python in RAM"
   ]
  },
  {
   "cell_type": "code",
   "execution_count": 30,
   "metadata": {},
   "outputs": [
    {
     "name": "stdout",
     "output_type": "stream",
     "text": [
      "1465655372656\n",
      "1465655372656\n"
     ]
    }
   ],
   "source": [
    "# 1: Checing the Id of the variable which has same value.\n",
    "print(id(Model1))\n",
    "print(id(Model2))"
   ]
  },
  {
   "cell_type": "code",
   "execution_count": 31,
   "metadata": {},
   "outputs": [],
   "source": [
    "Model2 = \"Machine Learning\""
   ]
  },
  {
   "cell_type": "code",
   "execution_count": 32,
   "metadata": {},
   "outputs": [
    {
     "name": "stdout",
     "output_type": "stream",
     "text": [
      "1465655372656\n",
      "1465654058640\n"
     ]
    }
   ],
   "source": [
    "print(id(Model1))\n",
    "print(id(Model2))"
   ]
  },
  {
   "cell_type": "markdown",
   "metadata": {},
   "source": [
    "# Conclustion\n",
    "\n",
    "* Python is a memory optimization technique. \n",
    "* If we assign the same value for two variables then python will automatically refer the same memory for both variables."
   ]
  },
  {
   "cell_type": "code",
   "execution_count": null,
   "metadata": {},
   "outputs": [],
   "source": [
    "#  Extracting the real and imaginary part from a string.\n",
    "print(Complex)\n",
    "print(Complex.real)\n",
    "print(Complex.imag)\n",
    "\n",
    "# For autofill, after entering .and first letter then press \"tab\". By default auto text will be completed."
   ]
  },
  {
   "cell_type": "markdown",
   "metadata": {},
   "source": [
    "# Printing format:\n",
    "\n",
    " We can use \".format()\" function to print the output in the required format.\n"
   ]
  },
  {
   "cell_type": "code",
   "execution_count": null,
   "metadata": {},
   "outputs": [],
   "source": [
    "# Example -1\n",
    "first_name = 'Mohana Lakshmi Sainath'\n",
    "last_name = \"Buragadda\"\n",
    "\n",
    "# Without parameters passing\n",
    "print(\"My first name is {} and last name is{}\".format(first_name,last_name))\n",
    "\n",
    "# The first argument in will be passed to the first curley braces and the last argument will be passed to the second curley braces.\n",
    "# Here the order is important.\n",
    "\n",
    "# Passing with parameters\n",
    "print(\"My first name is {first} and last name is {last}\".format(first = first_name, last = last_name))\n",
    "print(\"My first name is {last} and last name is {first}\".format(last = first_name,first = last_name))\n"
   ]
  },
  {
   "cell_type": "code",
   "execution_count": 16,
   "metadata": {},
   "outputs": [
    {
     "name": "stdout",
     "output_type": "stream",
     "text": [
      "I am learning Data Sciencce, Machine Learning and Deep Learning using Python at the Organization At Ineurons Technology\n"
     ]
    }
   ],
   "source": [
    "A = \"Data Sciencce\"\n",
    "B = \"Machine Learning\"\n",
    "C = \"Deep Learning\"\n",
    "D = \"Python\"\n",
    "E = \"At Ineurons Technology\"\n",
    "\n",
    "print(\"I am learning {C1}, {C2} and {C3} using {C4} at the Organization {C5}\".format(C1=A,C2=B,C3=C,C4=D,C5=E))"
   ]
  },
  {
   "cell_type": "code",
   "execution_count": 12,
   "metadata": {},
   "outputs": [
    {
     "name": "stdout",
     "output_type": "stream",
     "text": [
      "10 < 20 True\n",
      "10 > 20 False\n",
      "The two values have the same memory location is 10 and 20 False\n"
     ]
    }
   ],
   "source": [
    "# Example - 2\n",
    "\n",
    "a = 10\n",
    "b = 20\n",
    "\n",
    "print(\"{} < {}\".format(a,b),a<b)\n",
    "\n",
    "print(\"{} > {}\".format(a,b),a>b)\n",
    "\n",
    "print(\"The two values have the same memory location is {first} and {last}\".format(first = a, last = b), a is b)"
   ]
  },
  {
   "cell_type": "code",
   "execution_count": 2,
   "metadata": {},
   "outputs": [
    {
     "data": {
      "text/plain": [
       "'My self Sainath\\nWorking as a PEGA Business Analyst\\nAt Legato Health Technologies'"
      ]
     },
     "execution_count": 2,
     "metadata": {},
     "output_type": "execute_result"
    }
   ],
   "source": [
    "# In case of single line comment we use \"#\"\n",
    "# In case of multiple line comments we can use triple quotes to avoid the error\n",
    "\n",
    "\"\"\"My self Sainath\n",
    "Working as a PEGA Business Analyst\n",
    "At Legato Health Technologies\"\"\""
   ]
  },
  {
   "cell_type": "code",
   "execution_count": 19,
   "metadata": {},
   "outputs": [
    {
     "name": "stdout",
     "output_type": "stream",
     "text": [
      "Please enter an integer value36\n"
     ]
    },
    {
     "data": {
      "text/plain": [
       "str"
      ]
     },
     "execution_count": 19,
     "metadata": {},
     "output_type": "execute_result"
    }
   ],
   "source": [
    "# Input - This function is used to take the input from the user. It's a inbuilt function available in Python.\n",
    "\n",
    "I = input(\"Please enter an integer value\")\n",
    "\n",
    "type(I)  # When we check the data type of the variable which is created by using input function by default it will be \"str\"."
   ]
  },
  {
   "cell_type": "code",
   "execution_count": 32,
   "metadata": {},
   "outputs": [
    {
     "name": "stdout",
     "output_type": "stream",
     "text": [
      "Please enter an integer30\n",
      "Please enter an integer70\n",
      "Please enter an integer150\n",
      "30\n",
      "70\n",
      "150\n",
      "<class 'int'> <class 'int'> <class 'int'>\n",
      "0.6666666666666666\n",
      "(45.666666666666664+6j)\n",
      "<class 'complex'>\n"
     ]
    },
    {
     "ename": "TypeError",
     "evalue": "unsupported operand type(s) for +: 'complex' and 'str'",
     "output_type": "error",
     "traceback": [
      "\u001b[1;31m---------------------------------------------------------------------------\u001b[0m",
      "\u001b[1;31mTypeError\u001b[0m                                 Traceback (most recent call last)",
      "\u001b[1;32m<ipython-input-32-55361dfbc999>\u001b[0m in \u001b[0;36m<module>\u001b[1;34m\u001b[0m\n\u001b[0;32m     23\u001b[0m \u001b[0mprint\u001b[0m\u001b[1;33m(\u001b[0m\u001b[0mtype\u001b[0m\u001b[1;33m(\u001b[0m\u001b[0mO1\u001b[0m\u001b[1;33m)\u001b[0m\u001b[1;33m)\u001b[0m\u001b[1;33m\u001b[0m\u001b[1;33m\u001b[0m\u001b[0m\n\u001b[0;32m     24\u001b[0m \u001b[1;33m\u001b[0m\u001b[0m\n\u001b[1;32m---> 25\u001b[1;33m \u001b[0mO2\u001b[0m \u001b[1;33m=\u001b[0m \u001b[0mO1\u001b[0m \u001b[1;33m+\u001b[0m \u001b[1;34m\"Sainath\"\u001b[0m\u001b[1;33m\u001b[0m\u001b[1;33m\u001b[0m\u001b[0m\n\u001b[0m\u001b[0;32m     26\u001b[0m \u001b[0mprint\u001b[0m\u001b[1;33m(\u001b[0m\u001b[0mO2\u001b[0m\u001b[1;33m)\u001b[0m\u001b[1;33m\u001b[0m\u001b[1;33m\u001b[0m\u001b[0m\n",
      "\u001b[1;31mTypeError\u001b[0m: unsupported operand type(s) for +: 'complex' and 'str'"
     ]
    }
   ],
   "source": [
    "# Practice Question:1\n",
    "\n",
    "# To avoid a error we will use type casting process to over the error.\n",
    "\n",
    "A = int(input(\"Please enter an integer\"))\n",
    "\n",
    "B = int(input(\"Please enter an integer\"))\n",
    "\n",
    "C = int(input(\"Please enter an integer\"))\n",
    "\n",
    "print(A)\n",
    "print(B)\n",
    "print(C)\n",
    "print(type(A), type(B), type(C))\n",
    "\n",
    "O = (A + B)/C\n",
    "print(O)\n",
    "\n",
    "Comp = 45+6j\n",
    "\n",
    "O1 = (O + Comp)\n",
    "print(O1)\n",
    "print(type(O1))\n",
    "\n",
    "O2 = O1 + \"Sainath\"\n",
    "print(O2)"
   ]
  },
  {
   "cell_type": "code",
   "execution_count": 34,
   "metadata": {},
   "outputs": [
    {
     "data": {
      "text/plain": [
       "'(45.666666666666664+6j)Sainath'"
      ]
     },
     "execution_count": 34,
     "metadata": {},
     "output_type": "execute_result"
    }
   ],
   "source": [
    "# To avoid the above error for O2 i.e., for output 2 we use type casting process\n",
    "\n",
    "O3 = str(O1) + \"Sainath\"\n",
    "O3"
   ]
  },
  {
   "cell_type": "code",
   "execution_count": null,
   "metadata": {},
   "outputs": [],
   "source": []
  }
 ],
 "metadata": {
  "kernelspec": {
   "display_name": "Python 3",
   "language": "python",
   "name": "python3"
  },
  "language_info": {
   "codemirror_mode": {
    "name": "ipython",
    "version": 3
   },
   "file_extension": ".py",
   "mimetype": "text/x-python",
   "name": "python",
   "nbconvert_exporter": "python",
   "pygments_lexer": "ipython3",
   "version": "3.7.4"
  }
 },
 "nbformat": 4,
 "nbformat_minor": 2
}
