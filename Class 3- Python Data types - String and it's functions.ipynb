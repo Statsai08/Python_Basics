{
 "cells": [
  {
   "cell_type": "markdown",
   "metadata": {},
   "source": [
    "# Strings:"
   ]
  },
  {
   "cell_type": "markdown",
   "metadata": {},
   "source": [
    "* Strings are used to record text information such as name. In python, strings act as \"Sequence\" which means python tracks every element in the string as a sequence.\n",
    "* For example, Python understands the string \"hello\" to be a sequence of letters in a specific order which means the indexing technique to grab particular letters like first letter or last letter.\n",
    "\n",
    "* Creating a string:\n",
    "** We can create a string either by using a single or double quotes."
   ]
  },
  {
   "cell_type": "code",
   "execution_count": 1,
   "metadata": {},
   "outputs": [
    {
     "name": "stdout",
     "output_type": "stream",
     "text": [
      "Business Analyst\n",
      "Welcome to Machine Learning\n",
      "Welcome Data Science \n",
      "\n",
      "Machine Learning and \n",
      "          \n",
      "Deep Learning\n",
      "          \n",
      "with Python\n"
     ]
    }
   ],
   "source": [
    "# Creatinga a string using single, double and triple quotes.\n",
    "\n",
    "Str1 = 'Business Analyst'\n",
    "print(Str1)\n",
    "\n",
    "Str2 = \"Welcome to Machine Learning\"\n",
    "print(Str2)\n",
    "\n",
    "Str3 = \"\"\"Welcome Data Science \n",
    "\n",
    "Machine Learning and \n",
    "          \n",
    "Deep Learning\n",
    "          \n",
    "with Python\"\"\"\n",
    "\n",
    "print(Str3)\n",
    "\n",
    "# Note: Mostly we will use single or double quotes."
   ]
  },
  {
   "cell_type": "code",
   "execution_count": 4,
   "metadata": {},
   "outputs": [
    {
     "ename": "SyntaxError",
     "evalue": "invalid syntax (<ipython-input-4-cc04f6fb938d>, line 6)",
     "output_type": "error",
     "traceback": [
      "\u001b[1;36m  File \u001b[1;32m\"<ipython-input-4-cc04f6fb938d>\"\u001b[1;36m, line \u001b[1;32m6\u001b[0m\n\u001b[1;33m    Str5 = 'Machine's Learning'\u001b[0m\n\u001b[1;37m                    ^\u001b[0m\n\u001b[1;31mSyntaxError\u001b[0m\u001b[1;31m:\u001b[0m invalid syntax\n"
     ]
    }
   ],
   "source": [
    "# Creating a string using different quotations.\n",
    "\n",
    "Str4 = \"Machine's Learning\"\n",
    "print(Str4)\n",
    "\n",
    "Str6 = \"\"\"Mahcine\"s Learning \"\"\"\n",
    "print(Str6)\n",
    "\n",
    "Str5 = 'Machine's Learning'\n",
    "print(Str5)\n",
    "\n",
    "\n",
    "# Here we will get an error messaage. To overcome we can either use double instead of 's.\n"
   ]
  },
  {
   "cell_type": "code",
   "execution_count": 5,
   "metadata": {},
   "outputs": [
    {
     "name": "stdout",
     "output_type": "stream",
     "text": [
      "Machine\"s Learning\n"
     ]
    }
   ],
   "source": [
    "Str6 = 'Machine\"s Learning'\n",
    "print(Str6)\n",
    "\n",
    "# Note: We should use single quotation between double quotation or vice-versa."
   ]
  },
  {
   "cell_type": "code",
   "execution_count": 5,
   "metadata": {},
   "outputs": [
    {
     "data": {
      "text/plain": [
       "'Mohana Lakshmi Sainath'"
      ]
     },
     "execution_count": 5,
     "metadata": {},
     "output_type": "execute_result"
    }
   ],
   "source": [
    "# Example : 1\n",
    "\n",
    "\"Mohana Lakshmi Sainath\""
   ]
  },
  {
   "cell_type": "code",
   "execution_count": 7,
   "metadata": {},
   "outputs": [
    {
     "data": {
      "text/plain": [
       "\"Let's print python is simple and clean\""
      ]
     },
     "execution_count": 7,
     "metadata": {},
     "output_type": "execute_result"
    }
   ],
   "source": [
    "#  Example : 2\n",
    "\n",
    "\"Let's print python is simple and clean\""
   ]
  },
  {
   "cell_type": "code",
   "execution_count": 3,
   "metadata": {},
   "outputs": [
    {
     "data": {
      "text/plain": [
       "'My name is Sainath\\n\\nWorking as a Business Analyst\\n\\nAt L&T Infotech'"
      ]
     },
     "execution_count": 3,
     "metadata": {},
     "output_type": "execute_result"
    }
   ],
   "source": [
    "# Example : 3 To print multiple lines\n",
    "\n",
    "\"\"\"My name is Sainath\n",
    "\n",
    "Working as a Business Analyst\n",
    "\n",
    "At L&T Infotech\"\"\"                       # Here \\n represents a new line in the output."
   ]
  },
  {
   "cell_type": "code",
   "execution_count": 9,
   "metadata": {},
   "outputs": [
    {
     "name": "stdout",
     "output_type": "stream",
     "text": [
      "29\n",
      "52\n",
      "37\n"
     ]
    }
   ],
   "source": [
    "# Example : 4 To know the lenght of a string.\n",
    "\n",
    "# Length function which is used to count the number of elements in a sequence including space also.\n",
    "\n",
    "Str7 = \"Hello Welcome to Python World\"\n",
    "\n",
    "print(len(Str7))\n",
    "\n",
    "Str8 = \"Data Science & Machine Learning with Python Language\"\n",
    "\n",
    "print(len(Str8))\n",
    "\n",
    "Str9 = \"Legato Health Care Technologies Ltd.,\"\n",
    "print(len(Str9))"
   ]
  },
  {
   "cell_type": "markdown",
   "metadata": {},
   "source": [
    "# Accessing the Values in String:\n",
    "\n",
    "* We can access the characters from string using \"Index\" and \"Slilcing\"\n",
    "* Indexing - If we want to access individual characters we can use \"Index\" concept.\n",
    "* Slicing - If we want to access group of characters we can use \"Slicing\".\n",
    "* Here we will a \"Strart Position\" and \"End Position\" to extract the chracters from the string."
   ]
  },
  {
   "cell_type": "code",
   "execution_count": 23,
   "metadata": {},
   "outputs": [
    {
     "name": "stdout",
     "output_type": "stream",
     "text": [
      "52\n",
      "P\n",
      "h\n",
      "on is for DataScience and Artificial Inteligence\n",
      "Python is for DataScience and Artificial\n",
      "Python is \n",
      "for DataSc\n",
      "P\n",
      "Python is for DataScience and Artificial Inteligence\n",
      "frDtSinead\n",
      "PfiA c\n",
      "ecnegiletnI laicifitrA dna ecneicSataD rof si nohtyP\n",
      "eelnlciAneeSar  hP\n",
      "Python is for DataScience and Artificial Inteligence\n"
     ]
    }
   ],
   "source": [
    "# Example : 5 Indexing. By using Indexing we extract the data from the string.\n",
    "\n",
    "# Note: When we are using Indexing, the output will not contain the ending position mentioned.\n",
    "\n",
    "# In Python indexing is available from left to right (Forward Index) and also from right to left (Reverse Index.\n",
    "\n",
    "# Incase if we want to pull a alphabets from left of the string then we use positive number which starts with 0 index and so on.\n",
    "# Incase if we want to pull a alphabets from right of the string then we use negative number which start with -1 index.\n",
    "\n",
    "# Positive Index:  Extracting the alphabets from left side of the string.\n",
    "\n",
    "Str10 = \"Python is for DataScience and Artificial Inteligence\"\n",
    "print(len(Str10))\n",
    "print(Str10[0])  # Extract first alphabet from the string.\n",
    "print(Str10[3])  # Extrac thrid alphabet from the string.\n",
    "\n",
    "# Slicing the string from a particular index and upto the end of the string.\n",
    "print(Str10[4:])\n",
    "\n",
    "# Slicing the string from the starting position to particular index.\n",
    "print(Str10[:40])\n",
    "print(Str10[ : 10])\n",
    "\n",
    "# Slicing the string from the required start position to required end position.\n",
    "print(Str10[10:20])\n",
    "print(Str10[0:1])\n",
    "print(Str10[0:53])\n",
    "\n",
    "# Slicing the string using required step size.\n",
    "print(Str10[10:30:2])  # The outcome will be from 10 index with step size of \"2\".\n",
    "print(Str10[0:53:10])\n",
    "# Note: By default step size will be \"1\". \n",
    "\n",
    "# Slicing the string in reverse direction\n",
    "print(Str10[::-1])  # Print the entire string in reverse direction\n",
    "print(Str10[::-3])  # Print the entire string in reverse direction with step size3.\n",
    "\n",
    "# Extracting all characters in the string.\n",
    "print(Str10[:])"
   ]
  },
  {
   "cell_type": "code",
   "execution_count": 4,
   "metadata": {},
   "outputs": [
    {
     "name": "stdout",
     "output_type": "stream",
     "text": [
      "n\n",
      "o\n",
      "a\n",
      "noitamotuA rof nohtyP\n",
      "niaou o otP\n",
      "Python for Automat\n",
      "Python for Automatio\n",
      "Automatio\n",
      "for Automat\n"
     ]
    }
   ],
   "source": [
    "# Negative Indexing : Extracting the alphabets from right side of the string.\n",
    "\n",
    "Str11 = \"Python for Automation\"\n",
    "\n",
    "print(Str11[-1])   # Extract last alphabet from the string. \n",
    "print(Str11[-2]) # Extract the 2nd last alphabet from the string. \n",
    "print(Str11[-5])  # Extract the 5the alphabet from the string in reverse direction.\n",
    "\n",
    "\n",
    "# Print the entire sttring in reverse direction\n",
    "print(Str11[::-1])\n",
    "print(Str11[::-2]) # Printing the string in reverse direction with step size 2.\n",
    "\n",
    "# Grab everything expect the last 3 character\n",
    "print(Str11[:-3])\n",
    "\n",
    "# Grab everything expect the last one character\n",
    "print(Str11[:-1])\n",
    "\n",
    "# Grab everything from -1 to -10\n",
    "print(Str11[-10:-1])\n",
    "\n",
    "#  Grab everything from 7th index to -3rd index.\n",
    "print(Str11[7:-3])\n"
   ]
  },
  {
   "cell_type": "code",
   "execution_count": 26,
   "metadata": {},
   "outputs": [
    {
     "name": "stdout",
     "output_type": "stream",
     "text": [
      "Moha\n",
      "a Lakshmi Sainath Buragadda\n",
      "Mohana Lakshmi Sainath Buragadda\n",
      "Mhn asm ant uaad\n",
      "addagaruB htaniaS imhskaL anahoM\n",
      "Mohana Lakshmi Sainath Buragad\n",
      "\n",
      "dd\n",
      "\n",
      "mi Sainath Buragadda\n"
     ]
    }
   ],
   "source": [
    "# Another example\n",
    "Name = \"Mohana Lakshmi Sainath Buragadda\"\n",
    "\n",
    "print(Name[0:4]) # The output will display the oth, 1st, 2nd & 3rd Index only.\n",
    "\n",
    "print(Name[5:])  # Display from the required index and upto the end of the string.\n",
    "\n",
    "print(Name[: : 1]) # When we introduce 3rd argument, system will consider this as \"Step size\". Printing the index with stepsize 1 from left to right.\n",
    "\n",
    "print(Name[: : 2]) # Printing the string with stepsize 2 from left to right. \n",
    "\n",
    "print(Name[ : : -1]) # Print the string in reverse direction.\n",
    "\n",
    "print(Name[ : -2]) # Display all the characters in the string expect the last 2 characters.\n",
    "\n",
    "print(Name[-1 : -3])  # There is no ouput. Because when we are using -ve indexes starting position is always lessthan ending position.\n",
    "\n",
    "print(Name[-3:-1])  # The output will display -3rd & -2nd Index only.\n",
    "\n",
    "print(Name[-1 : 4]) # No output will be displayed. Because,if we use +ve & -ve positions it will not return any output. \n",
    "# So we should use either +ve or -ve positions only.\n",
    "\n",
    "print(Name[-20:]) # Displaying the text from -5th index upto  end of the string."
   ]
  },
  {
   "cell_type": "code",
   "execution_count": 7,
   "metadata": {},
   "outputs": [
    {
     "name": "stdout",
     "output_type": "stream",
     "text": [
      "\n",
      "noitamotuA\n",
      "\n",
      "3197204887552\n",
      "\n",
      "noit\n"
     ]
    }
   ],
   "source": [
    "# Some other scenarios:\n",
    "\n",
    "Str11 = \"Python for Automation\"\n",
    "\n",
    "\n",
    "print(Str11[10:20:-1])  \n",
    "# There will be no output. Because we are moving in postive direction on a scale and with a step size of negative.\n",
    "\n",
    "print(Str11[20:10:-1])  \n",
    "# We get output. Because are moving in negative direction on a scale with a step size of negative.\n",
    "\n",
    "print(Str11[20:10:1])\n",
    "# There will be no output. Because we are moving on negative direction on a scale with a step size of positive.\n",
    "\n",
    "print(id(Str11))\n",
    "\n",
    "print(Str11[-1:-5])  # Here we won't get any output. Becuase by default the stepsize \"1\" i.e., positive and we moving in wrong -ve direction.\n",
    "\n",
    "print(Str11[-1:-5:-1])  #Here we will get output."
   ]
  },
  {
   "cell_type": "markdown",
   "metadata": {},
   "source": [
    "# Index Out of range\n",
    "\n",
    "* There are two types of errors.\n",
    "   1: Index Error\n",
    "   2: Type Error\n",
    "* If we try to access index out of the range or use decimal number, we will get \"Index Error.\n",
    "* The index must be integer. We can't use float or other data types, this will results into TypeError.\n",
    "* Python allows negative indexing for its sequence.\n"
   ]
  },
  {
   "cell_type": "code",
   "execution_count": 2,
   "metadata": {},
   "outputs": [
    {
     "name": "stdout",
     "output_type": "stream",
     "text": [
      "Python\n"
     ]
    },
    {
     "ename": "IndexError",
     "evalue": "string index out of range",
     "output_type": "error",
     "traceback": [
      "\u001b[1;31m---------------------------------------------------------------------------\u001b[0m",
      "\u001b[1;31mIndexError\u001b[0m                                Traceback (most recent call last)",
      "\u001b[1;32m<ipython-input-2-a6a06fe50724>\u001b[0m in \u001b[0;36m<module>\u001b[1;34m\u001b[0m\n\u001b[0;32m      5\u001b[0m \u001b[1;31m# Simply it will print the entire string.\u001b[0m\u001b[1;33m\u001b[0m\u001b[1;33m\u001b[0m\u001b[1;33m\u001b[0m\u001b[0m\n\u001b[0;32m      6\u001b[0m \u001b[1;33m\u001b[0m\u001b[0m\n\u001b[1;32m----> 7\u001b[1;33m \u001b[0mprint\u001b[0m\u001b[1;33m(\u001b[0m\u001b[0mMystring1\u001b[0m\u001b[1;33m[\u001b[0m\u001b[1;36m7\u001b[0m\u001b[1;33m]\u001b[0m\u001b[1;33m)\u001b[0m  \u001b[1;31m# If we extracting the a single element which is out of range, then we will definetely get error message.\u001b[0m\u001b[1;33m\u001b[0m\u001b[1;33m\u001b[0m\u001b[0m\n\u001b[0m\u001b[0;32m      8\u001b[0m \u001b[1;33m\u001b[0m\u001b[0m\n",
      "\u001b[1;31mIndexError\u001b[0m: string index out of range"
     ]
    }
   ],
   "source": [
    "# Example: String Index Error\n",
    "Mystring1 = \"Python\"\n",
    "\n",
    "print(Mystring1[0:10])  # In this format if we pass out of the index also we won't get any error message.\n",
    "# Simply it will print the entire string.\n",
    "\n",
    "print(Mystring1[7])  # If we extracting the a single element which is out of range, then we will definetely get error message.\n",
    "\n"
   ]
  },
  {
   "cell_type": "code",
   "execution_count": 9,
   "metadata": {},
   "outputs": [
    {
     "ename": "TypeError",
     "evalue": "string indices must be integers",
     "output_type": "error",
     "traceback": [
      "\u001b[1;31m---------------------------------------------------------------------------\u001b[0m",
      "\u001b[1;31mTypeError\u001b[0m                                 Traceback (most recent call last)",
      "\u001b[1;32m<ipython-input-9-6514dc78e0d4>\u001b[0m in \u001b[0;36m<module>\u001b[1;34m\u001b[0m\n\u001b[0;32m      3\u001b[0m \u001b[0mMystring2\u001b[0m \u001b[1;33m=\u001b[0m \u001b[1;34m\"DataScience\"\u001b[0m\u001b[1;33m\u001b[0m\u001b[1;33m\u001b[0m\u001b[0m\n\u001b[0;32m      4\u001b[0m \u001b[1;33m\u001b[0m\u001b[0m\n\u001b[1;32m----> 5\u001b[1;33m \u001b[0mprint\u001b[0m\u001b[1;33m(\u001b[0m\u001b[0mMystring2\u001b[0m\u001b[1;33m[\u001b[0m\u001b[1;36m1.4\u001b[0m\u001b[1;33m]\u001b[0m\u001b[1;33m)\u001b[0m\u001b[1;33m\u001b[0m\u001b[1;33m\u001b[0m\u001b[0m\n\u001b[0m",
      "\u001b[1;31mTypeError\u001b[0m: string indices must be integers"
     ]
    }
   ],
   "source": [
    "# Example: Sttring Type Error - The argument which we are entering should be integer.\n",
    "\n",
    "Mystring2 = \"DataScience\"\n",
    "\n",
    "print(Mystring2[1.4])"
   ]
  },
  {
   "cell_type": "markdown",
   "metadata": {},
   "source": [
    "# Immutiability: We can't change the value once it is created\n",
    "\n",
    "Strings are always Immutiable . If we try to manipulate any index of the string then python will not allow us to change. This process is known as \"Immutiable.\" "
   ]
  },
  {
   "cell_type": "code",
   "execution_count": 6,
   "metadata": {},
   "outputs": [
    {
     "name": "stdout",
     "output_type": "stream",
     "text": [
      "The memory location of S1 is 1330489554480\n",
      "PythonFor Data Science\n",
      "The memory location of S2 is 1330561995600\n",
      "1330489554480\n",
      "1330561995600\n"
     ]
    }
   ],
   "source": [
    "# Example:1 - Creating a string and checking the memory address\n",
    "\n",
    "S1 = \"Python\"\n",
    "\n",
    "print(\"The memory location of S1 is\", id(S1))\n",
    "\n",
    "\n",
    "# Try to add an additional string to the S1\n",
    "\n",
    "S2 = S1 + \"For Data Science\"\n",
    "\n",
    "print(S2)\n",
    "\n",
    "print(\"The memory location of S2 is\", id(S2))\n",
    "\n",
    "# Here we didn't change any character in the stirng. We just added a new string to the existed one.\n",
    "# After adding that if we observe the id of the string was changed. Means that python consider it's a new string and assigned another memory location.\n",
    "\n",
    "print(id(S1))\n",
    "print(id(S2))\n"
   ]
  },
  {
   "cell_type": "code",
   "execution_count": 36,
   "metadata": {},
   "outputs": [
    {
     "ename": "TypeError",
     "evalue": "'str' object does not support item assignment",
     "output_type": "error",
     "traceback": [
      "\u001b[1;31m---------------------------------------------------------------------------\u001b[0m",
      "\u001b[1;31mTypeError\u001b[0m                                 Traceback (most recent call last)",
      "\u001b[1;32m<ipython-input-36-50eb7cb1761c>\u001b[0m in \u001b[0;36m<module>\u001b[1;34m\u001b[0m\n\u001b[0;32m      3\u001b[0m \u001b[0mS\u001b[0m \u001b[1;33m=\u001b[0m \u001b[1;34m\"Sainath\"\u001b[0m\u001b[1;33m\u001b[0m\u001b[1;33m\u001b[0m\u001b[0m\n\u001b[0;32m      4\u001b[0m \u001b[1;33m\u001b[0m\u001b[0m\n\u001b[1;32m----> 5\u001b[1;33m \u001b[0mS\u001b[0m\u001b[1;33m[\u001b[0m\u001b[1;36m0\u001b[0m\u001b[1;33m]\u001b[0m \u001b[1;33m=\u001b[0m \u001b[1;34m\"x\"\u001b[0m    \u001b[1;31m# String is Immutiable. If we try to replace the first alphabet it will throw an error.\u001b[0m\u001b[1;33m\u001b[0m\u001b[1;33m\u001b[0m\u001b[0m\n\u001b[0m",
      "\u001b[1;31mTypeError\u001b[0m: 'str' object does not support item assignment"
     ]
    }
   ],
   "source": [
    "# Example :2 -  Tyr to replace \"s\" by \"x\"\n",
    "\n",
    "S = \"Sainath\"\n",
    "\n",
    "S[0] = \"x\"    # String is Immutiable. If we try to replace the first alphabet it will throw an error."
   ]
  },
  {
   "cell_type": "code",
   "execution_count": 38,
   "metadata": {},
   "outputs": [
    {
     "name": "stdout",
     "output_type": "stream",
     "text": [
      "Welcome to my world\n"
     ]
    },
    {
     "ename": "TypeError",
     "evalue": "'str' object does not support item assignment",
     "output_type": "error",
     "traceback": [
      "\u001b[1;31m---------------------------------------------------------------------------\u001b[0m",
      "\u001b[1;31mTypeError\u001b[0m                                 Traceback (most recent call last)",
      "\u001b[1;32m<ipython-input-38-ee7394d15475>\u001b[0m in \u001b[0;36m<module>\u001b[1;34m\u001b[0m\n\u001b[0;32m      5\u001b[0m \u001b[0mprint\u001b[0m\u001b[1;33m(\u001b[0m\u001b[0mMystring\u001b[0m\u001b[1;33m)\u001b[0m\u001b[1;33m\u001b[0m\u001b[1;33m\u001b[0m\u001b[0m\n\u001b[0;32m      6\u001b[0m \u001b[1;33m\u001b[0m\u001b[0m\n\u001b[1;32m----> 7\u001b[1;33m \u001b[0mMystring\u001b[0m\u001b[1;33m[\u001b[0m\u001b[1;36m5\u001b[0m\u001b[1;33m]\u001b[0m \u001b[1;33m=\u001b[0m \u001b[1;34m\"B\"\u001b[0m\u001b[1;33m\u001b[0m\u001b[1;33m\u001b[0m\u001b[0m\n\u001b[0m\u001b[0;32m      8\u001b[0m \u001b[1;33m\u001b[0m\u001b[0m\n\u001b[0;32m      9\u001b[0m \u001b[1;31m# Note: We can't change any alphabet in the string after it's created.\u001b[0m\u001b[1;33m\u001b[0m\u001b[1;33m\u001b[0m\u001b[1;33m\u001b[0m\u001b[0m\n",
      "\u001b[1;31mTypeError\u001b[0m: 'str' object does not support item assignment"
     ]
    }
   ],
   "source": [
    "# Example : 3 - How to update the string.\n",
    "\n",
    "Mystring = \"Welcome to my world\"\n",
    "\n",
    "print(Mystring)\n",
    "\n",
    "Mystring[5] = \"B\"\n",
    "\n",
    "# Note: We can't change any alphabet in the string after it's created."
   ]
  },
  {
   "cell_type": "markdown",
   "metadata": {},
   "source": [
    "# Delete a string:\n",
    "\n",
    "* We can't delete or remove characters from a string once it is created.\n",
    "* We can delete the entire string using \"del\" keyword."
   ]
  },
  {
   "cell_type": "code",
   "execution_count": 39,
   "metadata": {},
   "outputs": [
    {
     "ename": "NameError",
     "evalue": "name 'Mystring' is not defined",
     "output_type": "error",
     "traceback": [
      "\u001b[1;31m---------------------------------------------------------------------------\u001b[0m",
      "\u001b[1;31mNameError\u001b[0m                                 Traceback (most recent call last)",
      "\u001b[1;32m<ipython-input-39-d5bb26816c21>\u001b[0m in \u001b[0;36m<module>\u001b[1;34m\u001b[0m\n\u001b[0;32m      3\u001b[0m \u001b[1;32mdel\u001b[0m \u001b[0mMystring\u001b[0m\u001b[1;33m\u001b[0m\u001b[1;33m\u001b[0m\u001b[0m\n\u001b[0;32m      4\u001b[0m \u001b[1;33m\u001b[0m\u001b[0m\n\u001b[1;32m----> 5\u001b[1;33m \u001b[0mprint\u001b[0m\u001b[1;33m(\u001b[0m\u001b[0mMystring\u001b[0m\u001b[1;33m)\u001b[0m\u001b[1;33m\u001b[0m\u001b[1;33m\u001b[0m\u001b[0m\n\u001b[0m",
      "\u001b[1;31mNameError\u001b[0m: name 'Mystring' is not defined"
     ]
    }
   ],
   "source": [
    "# Example : 1 - Delete the string.\n",
    "\n",
    "del Mystring\n",
    "\n",
    "print(Mystring)"
   ]
  },
  {
   "cell_type": "markdown",
   "metadata": {},
   "source": [
    "# String Operations"
   ]
  },
  {
   "cell_type": "markdown",
   "metadata": {},
   "source": [
    "# Concatenate Strings:\n",
    "\n",
    "We can add two or more different strings into a single string. In case if we try to concatenate a string with number then it will throw an error."
   ]
  },
  {
   "cell_type": "code",
   "execution_count": 11,
   "metadata": {},
   "outputs": [
    {
     "data": {
      "text/plain": [
       "'Hello Sainath. Welcome to the world of Data ScienceAlong with Machine Learning'"
      ]
     },
     "execution_count": 11,
     "metadata": {},
     "output_type": "execute_result"
    }
   ],
   "source": [
    "# Example : 1  Concatenate two strings. We can concatenate two strings by using \"+\" icon.\n",
    "\n",
    "\"Hello Sainath. \" + \"Welcome to the world of Data Science\"\n",
    "\n",
    "T1 = \"Hello Sainath. \" + \"Welcome to the world of Data Science\"  # Assign a string to a variable.\n",
    "\n",
    "T2 = T1+\"Along with Machine Learning\"\n",
    "\n",
    "T2"
   ]
  },
  {
   "cell_type": "code",
   "execution_count": 19,
   "metadata": {},
   "outputs": [
    {
     "ename": "TypeError",
     "evalue": "can only concatenate str (not \"int\") to str",
     "output_type": "error",
     "traceback": [
      "\u001b[1;31m---------------------------------------------------------------------------\u001b[0m",
      "\u001b[1;31mTypeError\u001b[0m                                 Traceback (most recent call last)",
      "\u001b[1;32m<ipython-input-19-7e844b5decf3>\u001b[0m in \u001b[0;36m<module>\u001b[1;34m\u001b[0m\n\u001b[0;32m      1\u001b[0m \u001b[1;31m# Example : 8  Concatenate a string with number. If we try to do that then it will throw an error.\u001b[0m\u001b[1;33m\u001b[0m\u001b[1;33m\u001b[0m\u001b[1;33m\u001b[0m\u001b[0m\n\u001b[0;32m      2\u001b[0m \u001b[1;33m\u001b[0m\u001b[0m\n\u001b[1;32m----> 3\u001b[1;33m \u001b[0mT3\u001b[0m \u001b[1;33m=\u001b[0m \u001b[1;34m\"Sainath\"\u001b[0m \u001b[1;33m+\u001b[0m \u001b[1;36m2016\u001b[0m\u001b[1;33m\u001b[0m\u001b[1;33m\u001b[0m\u001b[0m\n\u001b[0m",
      "\u001b[1;31mTypeError\u001b[0m: can only concatenate str (not \"int\") to str"
     ]
    }
   ],
   "source": [
    "# Example : 2  Concatenate a string with number. If we try to do that then it will throw an error.\n",
    "\n",
    "T3 = \"Sainath\" + 2016\n"
   ]
  },
  {
   "cell_type": "code",
   "execution_count": 41,
   "metadata": {},
   "outputs": [
    {
     "name": "stdout",
     "output_type": "stream",
     "text": [
      "Sainath2016\n",
      "Sainath2016\n"
     ]
    }
   ],
   "source": [
    "# Example : 3\n",
    "\n",
    "\n",
    "# In case we want to concatenate then we need to do data conversation  i.e., convert the respective data type into a string type\n",
    "\n",
    "T4 = \"Sainath\" + \"2016\"\n",
    "T5 = \"Sainath\" + str(2016)  # \"Str\" is a python function which is used to convert data type into string.\n",
    "\n",
    "print(T4)\n",
    "\n",
    "print(T5)\n"
   ]
  },
  {
   "cell_type": "code",
   "execution_count": 42,
   "metadata": {},
   "outputs": [
    {
     "data": {
      "text/plain": [
       "'Sainath2016Sainath2016Sainath2016Sainath2016Sainath2016'"
      ]
     },
     "execution_count": 42,
     "metadata": {},
     "output_type": "execute_result"
    }
   ],
   "source": [
    "# Example : 4   Repeat a strig number of times. For repetation we use \"*\" operator.\n",
    "\n",
    "T5 *5"
   ]
  },
  {
   "cell_type": "code",
   "execution_count": 11,
   "metadata": {},
   "outputs": [
    {
     "name": "stdout",
     "output_type": "stream",
     "text": [
      "97\n",
      "65\n",
      "122\n",
      "90\n"
     ]
    }
   ],
   "source": [
    "# Example : 5 - Ord() function which will return the ASCII values of the character.\n",
    "# ASCII - Stands for \"Americian Standard Code For Information Interchange\"\n",
    "# The ASCII vales for a-z is 97-122.\n",
    "# The ASCII values for A-Z is 65-90\n",
    "\n",
    "S1 = 'a'\n",
    "S2 = 'A'\n",
    "S3 = 'z'\n",
    "S4 = 'Z'\n",
    "\n",
    "print(ord(S1))\n",
    "print(ord(S2))\n",
    "print(ord(S3))\n",
    "print(ord(S4))"
   ]
  },
  {
   "cell_type": "code",
   "execution_count": 12,
   "metadata": {},
   "outputs": [
    {
     "name": "stdout",
     "output_type": "stream",
     "text": [
      "a\n",
      "A\n",
      "z\n",
      "Z\n"
     ]
    }
   ],
   "source": [
    "# Example : 6 - chr() function which will return the character for a given ASCII value.\n",
    "\n",
    "print(chr(97))\n",
    "print(chr(65))\n",
    "print(chr(122))\n",
    "print(chr(90))"
   ]
  },
  {
   "cell_type": "markdown",
   "metadata": {},
   "source": [
    "# String Comparision\n",
    "\n",
    "* We can use (>,<,<=,>=,==,!=) to compare two strings.\n",
    "* Python compares the strings using \"ASCII\" value of the characters.\n",
    "* When we do the comparision, the output will be a \"Boolean\" value."
   ]
  },
  {
   "cell_type": "code",
   "execution_count": 14,
   "metadata": {},
   "outputs": [
    {
     "name": "stdout",
     "output_type": "stream",
     "text": [
      "True\n",
      "False\n",
      "True\n",
      "False\n",
      "True\n",
      "True\n",
      "False\n"
     ]
    }
   ],
   "source": [
    "# Example : 1 - Compare two strings. The comparision will happen based on character by character in both strings.\n",
    "# If the ASCII values are same then based on the condition the output will be printed.\n",
    "\n",
    "print(\"Python\" == \"Python\")\n",
    "\n",
    "print(\"Python\" != \"Python\")\n",
    "\n",
    "print(\"pthon\" > \"Python\")\n",
    "\n",
    "print(\"PYTHON\" > \"python\")\n",
    "\n",
    "print(\"PYTHON\" < \"python\")\n",
    "\n",
    "print(\"Buragadda\" == \"Buragadda\")\n",
    "\n",
    "print(\"Buragadda\" > \"buragadda\")"
   ]
  },
  {
   "cell_type": "code",
   "execution_count": 18,
   "metadata": {},
   "outputs": [
    {
     "name": "stdout",
     "output_type": "stream",
     "text": [
      "True\n",
      "True\n",
      "False\n",
      "False\n"
     ]
    }
   ],
   "source": [
    "# Another Example.\n",
    "\n",
    "print(\"B\" == \"B\")\n",
    "\n",
    "print(\"AB\" == \"AB\")\n",
    "\n",
    "print(\"AB\" == \"Ab\")\n",
    "\n",
    "print(\"AB\" != \"AB\")"
   ]
  },
  {
   "cell_type": "markdown",
   "metadata": {},
   "source": [
    "# String Membership Operator"
   ]
  },
  {
   "cell_type": "code",
   "execution_count": 20,
   "metadata": {},
   "outputs": [
    {
     "name": "stdout",
     "output_type": "stream",
     "text": [
      "True\n",
      "False\n",
      "True\n",
      "True\n",
      "False\n"
     ]
    }
   ],
   "source": [
    "# Example : 1\n",
    "\n",
    "S1 = \"All the best\"\n",
    "\n",
    "print(\"best\" in S1)\n",
    "\n",
    "print(\"Welcome\" in S1)\n",
    "\n",
    "print(\"Welcome\" not in S1)\n",
    "\n",
    "print(\"A\" in S1)\n",
    "\n",
    "print(\"A\" not in S1)"
   ]
  },
  {
   "cell_type": "code",
   "execution_count": 57,
   "metadata": {},
   "outputs": [
    {
     "name": "stdout",
     "output_type": "stream",
     "text": [
      "B\n",
      "u\n",
      "s\n",
      "i\n",
      "n\n",
      "e\n",
      "s\n",
      "s\n"
     ]
    }
   ],
   "source": [
    "# Example : 2 - Iterating a string using a for loop.\n",
    "S1 = \"Business\"\n",
    "\n",
    "for i in S1:\n",
    "    print(i)\n"
   ]
  },
  {
   "cell_type": "markdown",
   "metadata": {},
   "source": [
    "# Some Built in functions in String"
   ]
  },
  {
   "cell_type": "markdown",
   "metadata": {},
   "source": [
    "# Strip () - Removing whitespaces in the string.\n",
    "\n",
    "* Whitespaces means if we have any spaces in the begining or ending of the string is known as \"whitespaces\".\n",
    "* To remove the whitespaces we will use a function known as \"strip()\".\n"
   ]
  },
  {
   "cell_type": "code",
   "execution_count": 23,
   "metadata": {},
   "outputs": [
    {
     "name": "stdout",
     "output_type": "stream",
     "text": [
      "    Sainath Buragdda    \n",
      "24\n",
      "Sainath Buragdda\n",
      "16\n",
      "Sainath Buragdda    \n",
      "20\n",
      "    Sainath Buragdda\n",
      "20\n",
      "      Welcome to Python Sessions     \n",
      "Welcome to Python Sessions\n",
      "Welcome to Python Sessions     \n",
      "      Welcome to Python Sessions\n"
     ]
    }
   ],
   "source": [
    "# To remove white spaces which are available in both sides of the string we use \"strip\" function.\n",
    "S = \"    Sainath Buragdda    \"\n",
    "print(S)\n",
    "print(len(S))\n",
    "\n",
    "S1 = S.strip()\n",
    "print(S1)\n",
    "print(len(S1))\n",
    "\n",
    "# If we want to remove leading (front) whitespace then we will use  \"lstrip\".\n",
    "S2 = S.lstrip()\n",
    "print(S2)\n",
    "print(len(S2))\n",
    "\n",
    "# If we want to remove ending(trailing) whitespace then we will use  \"rtrip\".\n",
    "S3 = S.rstrip()\n",
    "print(S3)\n",
    "print(len(S3))\n",
    "\n",
    "S4 = \"      Welcome to Python Sessions     \"\n",
    "\n",
    "print(S4)\n",
    "print(S4.strip())\n",
    "print(S4.lstrip())\n",
    "print(S4.rstrip())"
   ]
  },
  {
   "cell_type": "code",
   "execution_count": 31,
   "metadata": {},
   "outputs": [
    {
     "name": "stdout",
     "output_type": "stream",
     "text": [
      "46\n",
      "     Welcome to the world of Data Science     \n",
      "36\n",
      "Welcome to the world of Data Science\n",
      "41\n",
      "Welcome to the world of Data Science     \n",
      "41\n",
      "     Welcome to the world of Data Science\n"
     ]
    }
   ],
   "source": [
    "# Another example for removing white spaces.\n",
    "\n",
    "S2 = \"     Welcome to the world of Data Science     \"\n",
    "\n",
    "print(len(S2))\n",
    "print(S2)\n",
    "\n",
    "S3 = S2.strip()\n",
    "print(len(S3))\n",
    "print(S3)\n",
    "\n",
    "S4 = S2.lstrip()\n",
    "print(len(S4))\n",
    "print(S4)\n",
    "\n",
    "\n",
    "S5 = S2.rstrip()\n",
    "print(len(S5))\n",
    "print(S5)"
   ]
  },
  {
   "cell_type": "markdown",
   "metadata": {},
   "source": [
    "# Length function \n",
    "\n",
    "* Which is used to count the number of characters in the string"
   ]
  },
  {
   "cell_type": "code",
   "execution_count": 32,
   "metadata": {},
   "outputs": [
    {
     "name": "stdout",
     "output_type": "stream",
     "text": [
      "The number of characters in the given string are 36\n"
     ]
    }
   ],
   "source": [
    "# Examole : 1 - To find the number of characters in the string including spaces.\n",
    "\n",
    "Mystring = \"Welcome to the world of Data Science\"\n",
    "\n",
    "print(\"The number of characters in the given string are\", len(Mystring))"
   ]
  },
  {
   "cell_type": "markdown",
   "metadata": {},
   "source": [
    "# Index & Find functions\n",
    "\n",
    "* Display the position of the given character in the given string.\n",
    "* If the character is repeated multiple times, then it will give the first occurance only."
   ]
  },
  {
   "cell_type": "code",
   "execution_count": 34,
   "metadata": {},
   "outputs": [
    {
     "name": "stdout",
     "output_type": "stream",
     "text": [
      "4\n",
      "2\n",
      "2\n",
      "4\n",
      "37\n",
      "-1\n"
     ]
    },
    {
     "ename": "ValueError",
     "evalue": "substring not found",
     "output_type": "error",
     "traceback": [
      "\u001b[1;31m---------------------------------------------------------------------------\u001b[0m",
      "\u001b[1;31mValueError\u001b[0m                                Traceback (most recent call last)",
      "\u001b[1;32m<ipython-input-34-3acebe36014f>\u001b[0m in \u001b[0;36m<module>\u001b[1;34m\u001b[0m\n\u001b[0;32m     27\u001b[0m \u001b[0mprint\u001b[0m\u001b[1;33m(\u001b[0m\u001b[0mS\u001b[0m\u001b[1;33m.\u001b[0m\u001b[0mfind\u001b[0m\u001b[1;33m(\u001b[0m\u001b[1;34m\"z\"\u001b[0m\u001b[1;33m)\u001b[0m\u001b[1;33m)\u001b[0m\u001b[1;33m\u001b[0m\u001b[1;33m\u001b[0m\u001b[0m\n\u001b[0;32m     28\u001b[0m \u001b[1;33m\u001b[0m\u001b[0m\n\u001b[1;32m---> 29\u001b[1;33m \u001b[0mprint\u001b[0m\u001b[1;33m(\u001b[0m\u001b[0mS\u001b[0m\u001b[1;33m.\u001b[0m\u001b[0mindex\u001b[0m\u001b[1;33m(\u001b[0m\u001b[1;34m\"z\"\u001b[0m\u001b[1;33m)\u001b[0m\u001b[1;33m)\u001b[0m\u001b[1;33m\u001b[0m\u001b[1;33m\u001b[0m\u001b[0m\n\u001b[0m\u001b[0;32m     30\u001b[0m \u001b[1;33m\u001b[0m\u001b[0m\n",
      "\u001b[1;31mValueError\u001b[0m: substring not found"
     ]
    }
   ],
   "source": [
    "# Examples:  To check the list of inbuilt functions in a string after \".\" press tab. \n",
    "#In case if we want to check the description of the the function then place the cursor between braces and then press \n",
    "# \"shift + tab\"\n",
    "\n",
    "S = \"Hello World. Welcome to the world of Data Science\"\n",
    "\n",
    "# 1: Index - To find the position of the particular character when it is repeated multiple times.\n",
    "# It will display the first position of the character.\n",
    "\n",
    "print(S.index('o'))\n",
    "\n",
    "# We can also define certain range to find the position of the character.\n",
    "\n",
    "print(S.index(\"ll\",1, 10)) # The 2nd argument stands for starting postion & the 3rd argument stands for ending position.\n",
    "\n",
    "print(S.index(\"ll\",1)) # If we don't mention the last argument, then it will check from the starting positon and upto the end of the stirng.\n",
    "\n",
    "\n",
    "# Find -  Similar method which is used to find the position of the character.\n",
    "print(S.find('o'))\n",
    "\n",
    "print(S.find('D',0))\n",
    "\n",
    "# The difference between find and index function is that \"If the string is not found then \"find\" returns \"-1\"\n",
    "# where as \"Index\" returns an \"Error\" message.\n",
    "\n",
    "print(S.find(\"z\"))\n",
    "\n",
    "print(S.index(\"z\"))\n",
    "\n"
   ]
  },
  {
   "cell_type": "code",
   "execution_count": 38,
   "metadata": {},
   "outputs": [
    {
     "name": "stdout",
     "output_type": "stream",
     "text": [
      "32\n",
      "-1\n"
     ]
    },
    {
     "ename": "ValueError",
     "evalue": "substring not found",
     "output_type": "error",
     "traceback": [
      "\u001b[1;31m---------------------------------------------------------------------------\u001b[0m",
      "\u001b[1;31mValueError\u001b[0m                                Traceback (most recent call last)",
      "\u001b[1;32m<ipython-input-38-23201806d4e3>\u001b[0m in \u001b[0;36m<module>\u001b[1;34m\u001b[0m\n\u001b[0;32m      7\u001b[0m \u001b[0mprint\u001b[0m\u001b[1;33m(\u001b[0m\u001b[0mStr12\u001b[0m\u001b[1;33m.\u001b[0m\u001b[0mfind\u001b[0m\u001b[1;33m(\u001b[0m\u001b[1;34m\"O\"\u001b[0m\u001b[1;33m)\u001b[0m\u001b[1;33m)\u001b[0m\u001b[1;33m\u001b[0m\u001b[1;33m\u001b[0m\u001b[0m\n\u001b[0;32m      8\u001b[0m \u001b[1;33m\u001b[0m\u001b[0m\n\u001b[1;32m----> 9\u001b[1;33m \u001b[0mprint\u001b[0m\u001b[1;33m(\u001b[0m\u001b[0mStr12\u001b[0m\u001b[1;33m.\u001b[0m\u001b[0mindex\u001b[0m\u001b[1;33m(\u001b[0m\u001b[1;34m'O'\u001b[0m\u001b[1;33m)\u001b[0m\u001b[1;33m)\u001b[0m\u001b[1;33m\u001b[0m\u001b[1;33m\u001b[0m\u001b[0m\n\u001b[0m",
      "\u001b[1;31mValueError\u001b[0m: substring not found"
     ]
    }
   ],
   "source": [
    "# Another example:\n",
    "\n",
    "Str12 = \"Mohana Lakshmi Sainath.Buragadda\"\n",
    "\n",
    "print(len(Str12))\n",
    "\n",
    "print(Str12.find(\"O\"))  # If the argument was not found then we will get \"-1\".\n",
    "\n",
    "print(Str12.index('O')) # If the argument was not found then we will get an \"Error\" message."
   ]
  },
  {
   "cell_type": "code",
   "execution_count": 41,
   "metadata": {},
   "outputs": [
    {
     "name": "stdout",
     "output_type": "stream",
     "text": [
      "31\n"
     ]
    }
   ],
   "source": [
    "# rfind - Used to find the last position (i.e., from right side of the string) of the character in the given string.\n",
    "\n",
    "print(Str12.rfind(\"a\"))\n",
    "\n",
    "# Difference between \"find\" & \"rfind\":\n",
    "# Find will give you the first occurance and rfind will give the last occurance when a character is repeated multiple times."
   ]
  },
  {
   "cell_type": "markdown",
   "metadata": {},
   "source": [
    "# Count\n",
    "\n",
    "* To find how many times the given character repeated in the string."
   ]
  },
  {
   "cell_type": "code",
   "execution_count": 42,
   "metadata": {},
   "outputs": [
    {
     "name": "stdout",
     "output_type": "stream",
     "text": [
      "4\n",
      "6\n",
      "0\n",
      "4\n",
      "-1\n"
     ]
    }
   ],
   "source": [
    "S = \"Hello Welcome To The World Of Data Science\"\n",
    "\n",
    "# Count - Used to find how many times a given alphabet is repeated in a given string. \n",
    "# If exists then it gives the count otherwise \"Zero\".\n",
    "\n",
    "print(S.count('o'))  \n",
    "print(S.count('e'))\n",
    "print(S.count('z'))\n",
    "\n",
    "# Find - Used to find whether a given string is present in the string. If yes then it gives the index of the alphabet.\n",
    "\n",
    "print(S.find('o'))  # In case if repeated multiple times, then it gives the index of the first occurance.\n",
    "print(S.find('Z'))  # In case if not found then it will return the index as \"-1\"\n"
   ]
  },
  {
   "cell_type": "markdown",
   "metadata": {},
   "source": [
    "# Lower, Upper, Capitalize, Casefold functions"
   ]
  },
  {
   "cell_type": "code",
   "execution_count": 43,
   "metadata": {},
   "outputs": [
    {
     "name": "stdout",
     "output_type": "stream",
     "text": [
      "HELLO WORLD. WELCOME TO THE WORLD OF DATA SCIENCE\n",
      "hello world. welcome to the world of data science\n",
      "Hello world. welcome to the world of data science\n",
      "hello world. welcome to the world of data science\n",
      "True\n",
      "False\n"
     ]
    }
   ],
   "source": [
    "S = \"Hello World. Welcome to the world of Data Science\"\n",
    "\n",
    "# Convert into uppercase\n",
    "S1 = S.upper()\n",
    "print(S1)\n",
    "\n",
    "# Convert into lowercase\n",
    "S2 = S.lower()\n",
    "print(S2)\n",
    "\n",
    "# Convert the first character as upper case and rest as lower case.\n",
    "S3 = S.capitalize()\n",
    "print(S3)\n",
    "\n",
    "# Convert any upper case into lower case\n",
    "S4 = S.casefold()\n",
    "print(S4)\n",
    "\n",
    "# To find whether a given string started with a required character we use \"startswith\" function.It will return either \"True\" or \"False\"\n",
    "print(S.startswith(\"He\"))\n",
    "\n",
    "# To find whether a given string ended with a required character we use \"endswith\" function. It will return either \"True\" or \"False\"\n",
    "print(S.endswith(\"E\"))"
   ]
  },
  {
   "cell_type": "markdown",
   "metadata": {},
   "source": [
    "# Join()\n",
    "\n",
    "* Returns the string concatenated with the elements of an iterable."
   ]
  },
  {
   "cell_type": "code",
   "execution_count": 49,
   "metadata": {},
   "outputs": [
    {
     "name": "stdout",
     "output_type": "stream",
     "text": [
      "1-2-3-4-5-6\n",
      "S@a@i@n@a@t@h@.@b@u@r@a@g@a@d@d@a\n"
     ]
    }
   ],
   "source": [
    "# Example : 1 Add \"-\" after each character in the string.\n",
    "\n",
    "String1 = \"-\"\n",
    "String2 = \"123456\"\n",
    "\n",
    "print(String1.join(String2))\n",
    "\n",
    "\n",
    "Str13 = \"@\"\n",
    "Str14 = \"Sainath.buragadda\"\n",
    "Str15 = \"gmail.com\"\n",
    "\n",
    "print(Str13.join(Str14))\n",
    "# Note: In join we can pass only one argument at a time.\n",
    "\n",
    "del Str15\n",
    "\n"
   ]
  },
  {
   "cell_type": "markdown",
   "metadata": {},
   "source": [
    "# Split\n",
    "\n",
    "* Breaks up a string by the specified separator or special character and returns a list of strings.\n",
    "* Whenever we split the givene characater it will create a list and each value will be considered as a separate entity with index starts from 0 and so on.\n",
    "* By default split will take \"Space\" as default delimeter."
   ]
  },
  {
   "cell_type": "code",
   "execution_count": 50,
   "metadata": {},
   "outputs": [
    {
     "name": "stdout",
     "output_type": "stream",
     "text": [
      "['Welcome', 'to', 'python', 'class']\n",
      "['Python']\n",
      "['Mohana', 'Lakshmi', 'Sainath']\n",
      "['123', '456', '789', '987', '654', '321']\n"
     ]
    }
   ],
   "source": [
    "# Example : \n",
    "\n",
    "Str1 = 'Welcome to python class'\n",
    "\n",
    "print(Str1.split())  # When we don't specify the any split character, python by default will take space and split the given string.\n",
    "\n",
    "Str2 = \"Python\"\n",
    "\n",
    "print(Str2.split()) # If we don't have any spaces, then by default python will treate entire string as one character.\n",
    "\n",
    "Str3 = \"Mohana,Lakshmi,Sainath\"\n",
    "\n",
    "print(Str3.split(','))\n",
    "\n",
    "Str4 = \"123:456:789:987:654:321\"\n",
    "\n",
    "print(Str4.split(':'))"
   ]
  },
  {
   "cell_type": "markdown",
   "metadata": {},
   "source": [
    "# Partition\n",
    "* Partition will also split the data. But it will split the data into 3 parts and will return a tuple.\n",
    "* The difference between Split and Partition is:\n",
    "   * Split in return will give the result interms of list where as partition will give the result interms of tuple.\n",
    "   * Split will take \"Space\" as default delimeter. If we don't mention the delimeter also it will give output. Also in the output we don't have the delimeter as output.\n",
    "   * Partition we need to define the delimeter. If we don't mention the delimeter then it will an error. Also in the output we will have the delimeter as output."
   ]
  },
  {
   "cell_type": "code",
   "execution_count": 10,
   "metadata": {},
   "outputs": [
    {
     "name": "stdout",
     "output_type": "stream",
     "text": [
      "('R', 'a', 'nganayakamma')\n",
      "<class 'tuple'>\n",
      "['R', 'ng', 'n', 'y', 'k', 'mm', '']\n",
      "<class 'list'>\n"
     ]
    }
   ],
   "source": [
    "# Example: \n",
    "Str5 = \"Ranganayakamma\"\n",
    "\n",
    "print(Str5.partition('a')) # In output we will have the delimeter value also and we will get only 3 splits.\n",
    "print(type(Str5.partition('a')))\n",
    "# print(Str5.partition())  # Here we will get the error due to no delimeter passed.\n",
    "\n",
    "print(Str5.split('a')) # In outpu we won't have delimeter and it will split based on the number of times the delimeter occured.\n",
    "print(type(Str5.split('a')))"
   ]
  },
  {
   "cell_type": "markdown",
   "metadata": {},
   "source": [
    "# Repalce\n",
    "\n",
    "* Returns a copy of the string where all occurances will be replaced with another string.\n",
    "* It will create a new copy and original copy  will not change.\n",
    "* In the replace function we need to mention two arguments. \n",
    "   * The first one is which character we want to be replaced.\n",
    "   * The second one is which character we want to replace."
   ]
  },
  {
   "cell_type": "code",
   "execution_count": 4,
   "metadata": {},
   "outputs": [
    {
     "name": "stdout",
     "output_type": "stream",
     "text": [
      "Apple\n",
      "Appla\n",
      "Red,Blue,Green,Green,Blue\n",
      "Red,Rose,Green,Green,Rose\n",
      "Red,Blue,Green,Green,Blue\n"
     ]
    }
   ],
   "source": [
    "# Example : 1 Repalcing a special character.\n",
    "\n",
    "Str1 = \"Appla\"\n",
    "\n",
    "print(Str1.replace(\"a\",\"e\"))\n",
    "print(Str1)\n",
    "\n",
    "# Example : 2 Replacing a string with another string\n",
    "\n",
    "Str2 = \"Red,Rose,Green,Green,Rose\"\n",
    "\n",
    "print(Str2.replace(\"Rose\",\"Blue\")) # It will replace all the strings with the new ones.\n",
    "\n",
    "# As per the definition, the original string is not changed because strings are immutable until if we create a new string.\n",
    "# print(Str1)\n",
    "print(Str2)\n",
    "\n",
    "\n",
    "Str3 = Str2.replace(\"Rose\",'Blue')\n",
    "print(Str3)"
   ]
  },
  {
   "cell_type": "markdown",
   "metadata": {},
   "source": [
    "# Sorted()\n",
    "\n",
    "* Retuns a sorted list from the given iterable.\n",
    "* It will sort the given chacter in alphabetical order.\n",
    "* The output will be a list"
   ]
  },
  {
   "cell_type": "code",
   "execution_count": 94,
   "metadata": {},
   "outputs": [
    {
     "name": "stdout",
     "output_type": "stream",
     "text": [
      "['a', 'a', 'd', 'f', 'f', 'h', 'i', 'k', 'o', 's', 's']\n",
      "[',', ',', ',', 'B', 'L', 'M', 'a', 'a', 'a', 'a', 'a', 'a', 'a', 'a', 'd', 'd', 'g', 'h', 'h', 'h', 'i', 'i', 'k', 'm', 'n', 'n', 'o', 'r', 's', 's', 't', 'u']\n"
     ]
    }
   ],
   "source": [
    "# Example : 1\n",
    "\n",
    "Str1 = \"isfkadsfhoa\"\n",
    "\n",
    "print(sorted(Str1))\n",
    "\n",
    "# Example : 2\n",
    "\n",
    "Str2 = \"Mohana,Lakshmi,sainath,Buragadda\"\n",
    "\n",
    "print(sorted(Str2))"
   ]
  },
  {
   "cell_type": "markdown",
   "metadata": {},
   "source": [
    "# Checking Methods"
   ]
  },
  {
   "cell_type": "code",
   "execution_count": 56,
   "metadata": {},
   "outputs": [
    {
     "name": "stdout",
     "output_type": "stream",
     "text": [
      "True\n",
      "True\n",
      "True\n",
      "False\n",
      "True\n",
      "True\n",
      "False\n",
      "True\n",
      "False\n",
      "True\n",
      "True\n"
     ]
    }
   ],
   "source": [
    "# Isalnum - Returns \"True\" if all characters are alphanumeric characters.\n",
    "\n",
    "T1 = \"Hello\"\n",
    "print(T1.isalnum())\n",
    "\n",
    "T2 = \"Hello123\"\n",
    "print(T2.isalnum())\n",
    "\n",
    "T3 = 'Sai030163'\n",
    "print(T3.isalnum())\n",
    "\n",
    "T4 = \"Hellow@123\"\n",
    "print(T4.isalnum())\n",
    "\n",
    "# Isnumeric - Returns \"True\" if all character are numeric\n",
    "T4 = '12'\n",
    "print(T4.isnumeric())\n",
    "\n",
    "# Isalpha - Returns \"True\" if all characters are alphabetic\n",
    "\n",
    "T1 = \"Sainath\"\n",
    "print(T1.isalpha())\n",
    "\n",
    "T2 = \"Python123\"\n",
    "print(T2.isalpha())\n",
    "\n",
    "T3 = \"123\"\n",
    "print(T3.isdigit())\n",
    "print(T2.isdigit())\n",
    "\n",
    "# Islower - Returns \"True\" if all characters in alphabetic are lower.\n",
    "\n",
    "T1 = 'sainath'\n",
    "print(T1.islower())\n",
    "\n",
    "# Isupper - Returns \"True\" if all the characters in alphabetic are upper\n",
    "\n",
    "T2 = \"SAINATH\"\n",
    "print(T2.isupper())"
   ]
  },
  {
   "cell_type": "code",
   "execution_count": 82,
   "metadata": {},
   "outputs": [
    {
     "name": "stdout",
     "output_type": "stream",
     "text": [
      "True\n",
      "False\n",
      "False\n",
      "True\n"
     ]
    }
   ],
   "source": [
    "# Istitle - Returns \"True\", if the first character(only) in our string is uppercase.\n",
    "\n",
    "T1 = \"Mohana\"\n",
    "\n",
    "print(T1.istitle())\n",
    "\n",
    "T2 = \"mohana\"\n",
    "\n",
    "print(T2.istitle())\n",
    "\n",
    "T3 = \"MOHANA\"\n",
    "\n",
    "print(T3.istitle())\n",
    "\n",
    "T4 = \"Mohana Lakshmi Saianth\"\n",
    "\n",
    "print(T4.istitle())"
   ]
  },
  {
   "cell_type": "code",
   "execution_count": 55,
   "metadata": {},
   "outputs": [
    {
     "name": "stdout",
     "output_type": "stream",
     "text": [
      "False\n",
      "False\n",
      "True\n"
     ]
    }
   ],
   "source": [
    "# Isspace - Return \"True\" if the data contains only space\n",
    "\n",
    "T1 = \"Mohana Lakshmi Sainath\"\n",
    "\n",
    "print(T1.isspace())\n",
    "\n",
    "T2 = \"s a i n a t h\"\n",
    "\n",
    "print(T2.isspace())\n",
    "\n",
    "T3 = \" \"\n",
    "\n",
    "print(T3.isspace())"
   ]
  },
  {
   "cell_type": "code",
   "execution_count": 79,
   "metadata": {},
   "outputs": [
    {
     "ename": "NameError",
     "evalue": "name 'a' is not defined",
     "output_type": "error",
     "traceback": [
      "\u001b[1;31m---------------------------------------------------------------------------\u001b[0m",
      "\u001b[1;31mNameError\u001b[0m                                 Traceback (most recent call last)",
      "\u001b[1;32m<ipython-input-79-01a7958252a4>\u001b[0m in \u001b[0;36m<module>\u001b[1;34m\u001b[0m\n\u001b[1;32m----> 1\u001b[1;33m \u001b[1;34m'Insert data {} in runtime : {}'\u001b[0m\u001b[1;33m.\u001b[0m\u001b[0mformat\u001b[0m\u001b[1;33m(\u001b[0m\u001b[0ma\u001b[0m\u001b[1;33m)\u001b[0m\u001b[1;33m\u001b[0m\u001b[1;33m\u001b[0m\u001b[0m\n\u001b[0m",
      "\u001b[1;31mNameError\u001b[0m: name 'a' is not defined"
     ]
    }
   ],
   "source": [
    "'Insert data {} in runtime : {}'.format(a)"
   ]
  },
  {
   "cell_type": "code",
   "execution_count": 9,
   "metadata": {},
   "outputs": [
    {
     "data": {
      "text/plain": [
       "'Insert data Mohan in runtime : Lakshmi'"
      ]
     },
     "execution_count": 9,
     "metadata": {},
     "output_type": "execute_result"
    }
   ],
   "source": [
    "'Insert data {} in runtime : {}'.format(a,b,c) \n",
    "# Incase if use two curley braces and three arguments, then by default it will take first two argument to two curley braces."
   ]
  },
  {
   "cell_type": "markdown",
   "metadata": {},
   "source": [
    "# Center\n",
    "Center is one of the formatting method that allows us to place our required string 'Centered' between a provided string with  a certain length. The given string will be appended between the given argument.\n",
    "\n",
    "Note: In center formatting we should use only one character to append."
   ]
  },
  {
   "cell_type": "code",
   "execution_count": 44,
   "metadata": {},
   "outputs": [
    {
     "data": {
      "text/plain": [
       "'ZZZZHello Welcome To The World Of Data ScienceZZZZ'"
      ]
     },
     "execution_count": 44,
     "metadata": {},
     "output_type": "execute_result"
    }
   ],
   "source": [
    "S1 = S.center(50,\"Z\")\n",
    "S1"
   ]
  },
  {
   "cell_type": "code",
   "execution_count": 48,
   "metadata": {},
   "outputs": [
    {
     "data": {
      "text/plain": [
       "'zzzzzzzzzHello Welcome To The World Of Data Sciencezzzzzzzz'"
      ]
     },
     "execution_count": 48,
     "metadata": {},
     "output_type": "execute_result"
    }
   ],
   "source": [
    "S2 = S.center(59,\"z\")\n",
    "S2"
   ]
  }
 ],
 "metadata": {
  "kernelspec": {
   "display_name": "Python 3",
   "language": "python",
   "name": "python3"
  },
  "language_info": {
   "codemirror_mode": {
    "name": "ipython",
    "version": 3
   },
   "file_extension": ".py",
   "mimetype": "text/x-python",
   "name": "python",
   "nbconvert_exporter": "python",
   "pygments_lexer": "ipython3",
   "version": "3.7.4"
  }
 },
 "nbformat": 4,
 "nbformat_minor": 2
}
