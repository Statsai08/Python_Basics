{
 "cells": [
  {
   "cell_type": "markdown",
   "id": "0a5ce761",
   "metadata": {},
   "source": [
    "# Programing:\n",
    "* A Program is a sequence of instructions that specifies how to perform a computation.\n",
    "* The computaiton might be something mathematical, such as solving of equations or finding the roots of polynomial, but it can also be a symbolic computation.\n",
    "\n",
    "# Input:\n",
    "* Get data from keyboard, a file, or some other device.\n",
    "\n",
    "# Output:\n",
    "* Display data on the screen or send data to a file or other device.\n",
    "\n",
    "# Math:\n",
    "* Perform some basic mathematical operations like addition and multiplications.\n",
    "\n",
    "# Conditional Execution:\n",
    "* Check for certain  conditions and execute the appropriate sequences of statements.\n",
    "\n",
    "# Repetition:\n",
    "* Perform some action repeatedly, usually with some variation.\n",
    "\n",
    "# Debugging:\n",
    "* Programming is a complex process, and because its done by human begins, it often leads to errors. Programming errors are called Bugs and the process of tracking them down and corresponding them is called Debugging."
   ]
  },
  {
   "cell_type": "markdown",
   "id": "397b4cee",
   "metadata": {},
   "source": [
    "# Different types of Errors:\n",
    "\n",
    "# Syntax Errors:\n",
    "* The first type of errors.\n",
    "* It refers to the structure of a program and the rules about the structure.\n",
    "* For example - Python can only execute a program if the program is syntatically correct.Otherwise, the process fails and returns an error message.\n",
    "\n",
    "# Runtime Errors:\n",
    "* The second type of error is runtime error, so called because the error does not appear until we run the program.\n",
    "* These errors are also called \"Exceptions\" becuase they usually indicate that something exceptional has happened.\n",
    "\n",
    "# Semantic Errors:\n",
    "* The thrid type of error is the Semantic errors.\n",
    "* If there is a semantic error in our program it will run successfully, in the sense that the computer will not generate any error messages, but it will not do the right thing. \n",
    "* Identifying semantic errors can be tricky because it requires us to work backward by looking at the output of the program and trying to figure out what it is doing."
   ]
  }
 ],
 "metadata": {
  "kernelspec": {
   "display_name": "Python 3",
   "language": "python",
   "name": "python3"
  },
  "language_info": {
   "codemirror_mode": {
    "name": "ipython",
    "version": 3
   },
   "file_extension": ".py",
   "mimetype": "text/x-python",
   "name": "python",
   "nbconvert_exporter": "python",
   "pygments_lexer": "ipython3",
   "version": "3.8.8"
  }
 },
 "nbformat": 4,
 "nbformat_minor": 5
}
