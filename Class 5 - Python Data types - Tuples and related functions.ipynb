{
 "cells": [
  {
   "cell_type": "markdown",
   "metadata": {},
   "source": [
    "# Tuples\n",
    "\n",
    "* Tuple is a collection which is ordered and unchangeable.\n",
    "* Tuples are very similar to list, but once tuple is created, we can't add, delete, replace or reorder elements. This property is known as \"Immutable\".\n",
    "* Tuples are enclosed by parentheses () and separated by a comma. Eg: Tuple1 = (1,2,3,4,5).\n",
    "* Tuples are collections of (Strings, integers or even other lists)\n",
    "\n",
    "* Note: The difference between list and tuple is list is a \"Mutable\" where as tuple is a \"Immutable\". List are defined with in sqauare braces where as tuples are defind in open braces."
   ]
  },
  {
   "cell_type": "code",
   "execution_count": 11,
   "metadata": {},
   "outputs": [
    {
     "name": "stdout",
     "output_type": "stream",
     "text": [
      "The created empty tuple is ()\n",
      "Tuple having integers is (10, 15, 20, 30, 40, 50)\n",
      "Tuple having strings is ('Pyhton', 'Rlanguage', 'SAS')\n",
      "The created nested tuple is ((10, 15, 20, 30, 40, 50), ('Pyhton', 'Rlanguage', 'SAS'))\n",
      "Tuple having different data types is (5, 9.5, 'Python', (10, 20))\n",
      "<class 'str'>\n",
      "<class 'tuple'>\n",
      "<class 'int'>\n",
      "<class 'tuple'>\n"
     ]
    }
   ],
   "source": [
    "# Exmaple : 1 - Creating an empty tuple\n",
    "\n",
    "Tuple1 = ()\n",
    "print(\"The created empty tuple is\", Tuple1)\n",
    "\n",
    "\n",
    "# Example : 2 - Creating a tuple with integers\n",
    "Tuple2 = (10,15,20,30,40,50)\n",
    "print(\"Tuple having integers is\",Tuple2)\n",
    "\n",
    "\n",
    "# Example : 3 - Creating a tuple with strings.\n",
    "Tuple3 = (\"Pyhton\",\"Rlanguage\",\"SAS\")\n",
    "print(\"Tuple having strings is\", Tuple3)\n",
    "\n",
    "\n",
    "# Example : 4 - Creating a nested tuple i.e., tuple inside another tuple.\n",
    "Tuple4 = (Tuple2,Tuple3)\n",
    "print(\"The created nested tuple is\",Tuple4)\n",
    "\n",
    "\n",
    "# Example : 5 - Created a tuple with different data types.\n",
    "Tuple5 = (5,9.5,'Python',(10,20))\n",
    "print(\"Tuple having different data types is\",Tuple5)\n",
    "\n",
    "\n",
    "# Example : 6 - Creating a tuple with single value. In this case we need to mention \",\" after the value. \n",
    "# If we didn't mention the \",\", then python will consider the data type as \"String\".\n",
    "Tuple6 = ('Pyton')\n",
    "print(type(Tuple6)) # The output will be a string.\n",
    "\n",
    "Tuple7 = ('Python',)\n",
    "print(type(Tuple7)) # The output will be a tuple.\n",
    "\n",
    "Tuple8 = (10)\n",
    "print(type(Tuple8)) # The output will be a string.\n",
    "\n",
    "Tuple9 = (10,)\n",
    "print(type(Tuple9)) # The output will be a tuple."
   ]
  },
  {
   "cell_type": "markdown",
   "metadata": {},
   "source": [
    "# Tuple indexing and Slicing\n",
    "\n",
    "* We can access individual elements using indexing  and a range of characters using slicing.\n",
    "* Index starts from \"0\" and the direction is left to right for positive indexing.\n",
    "* Index starts from \"-1\" and the directions is right to left for negative indexing."
   ]
  },
  {
   "cell_type": "code",
   "execution_count": 14,
   "metadata": {},
   "outputs": [
    {
     "name": "stdout",
     "output_type": "stream",
     "text": [
      "20\n",
      "40\n"
     ]
    }
   ],
   "source": [
    "# Example : 6 - Indexing\n",
    "\n",
    "print(Tuple2[2])  # Printing the 2nd index from the tuple.\n",
    "print(Tuple2[-2]) # Printing the 2nd index from right to left."
   ]
  },
  {
   "cell_type": "code",
   "execution_count": 23,
   "metadata": {},
   "outputs": [
    {
     "name": "stdout",
     "output_type": "stream",
     "text": [
      "(10, 15, 20, 30, 40, 50)\n",
      "(15, 20)\n",
      "(20, 30, 40, 50)\n",
      "(10, 15, 20)\n",
      "(50, 40, 30, 20, 15, 10)\n",
      "(50, 30, 15)\n"
     ]
    }
   ],
   "source": [
    "# Example : 7 - Slicing\n",
    "\n",
    "print(Tuple2[:])    # Printing all the elements in the tuple.\n",
    "print(Tuple2[1:3])  # Printing the elements from 1st index before the 3rd index.\n",
    "print(Tuple2[2:])   # Printing all the elements from 2nd index to the last index in the tuple.\n",
    "print(Tuple2[:3])   # Printing all the element from 0th index to before the 3rd index.\n",
    "print(Tuple2[::-1]) # Printing all the elements in the tuple in reverse direction.\n",
    "print(Tuple2[: : -2]) # Printing the element in the tuple in reverse direction with stepsize as \"2\""
   ]
  },
  {
   "cell_type": "markdown",
   "metadata": {},
   "source": [
    "# Updating or replacing the tuple\n",
    "\n",
    "* Tuples are immutable which means that we can't update or replace or change any values in the tuple.\n",
    "* When we try to update we will get \"Type error\"."
   ]
  },
  {
   "cell_type": "code",
   "execution_count": 25,
   "metadata": {},
   "outputs": [
    {
     "ename": "TypeError",
     "evalue": "'tuple' object does not support item assignment",
     "output_type": "error",
     "traceback": [
      "\u001b[1;31m---------------------------------------------------------------------------\u001b[0m",
      "\u001b[1;31mTypeError\u001b[0m                                 Traceback (most recent call last)",
      "\u001b[1;32m<ipython-input-25-f608a86b3916>\u001b[0m in \u001b[0;36m<module>\u001b[1;34m\u001b[0m\n\u001b[0;32m      3\u001b[0m \u001b[0mTuple11\u001b[0m \u001b[1;33m=\u001b[0m \u001b[1;33m(\u001b[0m\u001b[1;36m1\u001b[0m\u001b[1;33m,\u001b[0m\u001b[1;36m10\u001b[0m\u001b[1;33m,\u001b[0m\u001b[1;34m\"Sainath\"\u001b[0m\u001b[1;33m)\u001b[0m\u001b[1;33m\u001b[0m\u001b[1;33m\u001b[0m\u001b[0m\n\u001b[0;32m      4\u001b[0m \u001b[1;33m\u001b[0m\u001b[0m\n\u001b[1;32m----> 5\u001b[1;33m \u001b[0mTuple11\u001b[0m\u001b[1;33m[\u001b[0m\u001b[1;36m1\u001b[0m\u001b[1;33m]\u001b[0m \u001b[1;33m=\u001b[0m \u001b[1;34m\"Buragadda\"\u001b[0m  \u001b[1;31m# We get an type error message.\u001b[0m\u001b[1;33m\u001b[0m\u001b[1;33m\u001b[0m\u001b[0m\n\u001b[0m",
      "\u001b[1;31mTypeError\u001b[0m: 'tuple' object does not support item assignment"
     ]
    }
   ],
   "source": [
    "# Example : 8 - Updating or changing the values in the tuple.\n",
    "\n",
    "Tuple11 = (1,10,\"Sainath\")\n",
    "\n",
    "Tuple11[1] = \"Buragadda\"  # We get an type error message."
   ]
  },
  {
   "cell_type": "markdown",
   "metadata": {},
   "source": [
    "# Delete tuple  elements\n",
    "\n",
    "* For a tuple we can't delete single element using \"del\" keyword.\n",
    "* We can delete the entir tuple uisng \"del\" keyword."
   ]
  },
  {
   "cell_type": "code",
   "execution_count": 31,
   "metadata": {},
   "outputs": [
    {
     "name": "stdout",
     "output_type": "stream",
     "text": [
      "The copied tuple is (1, 10, 'Sainath')\n"
     ]
    },
    {
     "ename": "TypeError",
     "evalue": "'tuple' object doesn't support item deletion",
     "output_type": "error",
     "traceback": [
      "\u001b[1;31m---------------------------------------------------------------------------\u001b[0m",
      "\u001b[1;31mTypeError\u001b[0m                                 Traceback (most recent call last)",
      "\u001b[1;32m<ipython-input-31-3022e7d2fbf3>\u001b[0m in \u001b[0;36m<module>\u001b[1;34m\u001b[0m\n\u001b[0;32m      3\u001b[0m \u001b[1;33m\u001b[0m\u001b[0m\n\u001b[0;32m      4\u001b[0m \u001b[1;31m# Deleting a single element from the tuple based on the index.\u001b[0m\u001b[1;33m\u001b[0m\u001b[1;33m\u001b[0m\u001b[1;33m\u001b[0m\u001b[0m\n\u001b[1;32m----> 5\u001b[1;33m \u001b[1;32mdel\u001b[0m \u001b[0mTuple12\u001b[0m\u001b[1;33m[\u001b[0m\u001b[1;36m1\u001b[0m\u001b[1;33m]\u001b[0m  \u001b[1;31m#  We will get \"type error\" message.\u001b[0m\u001b[1;33m\u001b[0m\u001b[1;33m\u001b[0m\u001b[0m\n\u001b[0m",
      "\u001b[1;31mTypeError\u001b[0m: 'tuple' object doesn't support item deletion"
     ]
    }
   ],
   "source": [
    "Tuple12 = Tuple11\n",
    "print(\"The copied tuple is\",Tuple12)\n",
    "\n",
    "# Deleting a single element from the tuple based on the index.\n",
    "del Tuple12[1]  #  We will get \"type error\" message."
   ]
  },
  {
   "cell_type": "code",
   "execution_count": 33,
   "metadata": {},
   "outputs": [
    {
     "ename": "NameError",
     "evalue": "name 'Tuple12' is not defined",
     "output_type": "error",
     "traceback": [
      "\u001b[1;31m---------------------------------------------------------------------------\u001b[0m",
      "\u001b[1;31mNameError\u001b[0m                                 Traceback (most recent call last)",
      "\u001b[1;32m<ipython-input-33-a0385cffde5b>\u001b[0m in \u001b[0;36m<module>\u001b[1;34m\u001b[0m\n\u001b[0;32m      1\u001b[0m \u001b[1;31m# Deleting entire tuple uisng \"del\" keyword.\u001b[0m\u001b[1;33m\u001b[0m\u001b[1;33m\u001b[0m\u001b[1;33m\u001b[0m\u001b[0m\n\u001b[1;32m----> 2\u001b[1;33m \u001b[1;32mdel\u001b[0m \u001b[0mTuple12\u001b[0m\u001b[1;33m\u001b[0m\u001b[1;33m\u001b[0m\u001b[0m\n\u001b[0m\u001b[0;32m      3\u001b[0m \u001b[0mprint\u001b[0m\u001b[1;33m(\u001b[0m\u001b[0mTuple12\u001b[0m\u001b[1;33m)\u001b[0m  \u001b[1;31m# We get \"NameError\" message.\u001b[0m\u001b[1;33m\u001b[0m\u001b[1;33m\u001b[0m\u001b[0m\n",
      "\u001b[1;31mNameError\u001b[0m: name 'Tuple12' is not defined"
     ]
    }
   ],
   "source": [
    "# Deleting entire tuple uisng \"del\" keyword.\n",
    "del Tuple12\n",
    "print(Tuple12)  # We get \"NameError\" message."
   ]
  },
  {
   "cell_type": "markdown",
   "metadata": {},
   "source": [
    "# Traversing (Iterate) the tuple using for loop"
   ]
  },
  {
   "cell_type": "code",
   "execution_count": 38,
   "metadata": {},
   "outputs": [
    {
     "name": "stdout",
     "output_type": "stream",
     "text": [
      "Jan\n",
      "Feb\n",
      "Mar\n",
      "Apr\n",
      "May\n",
      "June\n",
      "July\n",
      "Aug\n",
      "Sep\n",
      "Nov\n",
      "Oct\n",
      "Nov\n",
      "Dec\n"
     ]
    }
   ],
   "source": [
    "# Looping through  a tuple\n",
    "\n",
    "Tuple12 = (\"Jan\",\"Feb\",\"Mar\",\"Apr\",\"May\",\"June\",\"July\",\"Aug\",\"Sep\",\"Nov\",\"Oct\",\"Nov\",\"Dec\")\n",
    "\n",
    "for i in Tuple12:\n",
    "    print(i)"
   ]
  },
  {
   "cell_type": "markdown",
   "metadata": {},
   "source": [
    "# Tuple methods"
   ]
  },
  {
   "cell_type": "code",
   "execution_count": 63,
   "metadata": {},
   "outputs": [
    {
     "name": "stdout",
     "output_type": "stream",
     "text": [
      "('Sainath', 'Male', 35, 5.8, 50000, 'Business Analyst', 'LNT Infotech', 'Hyderabad')\n",
      "The number of elements in the given tuple is 8\n",
      "('Python', 'Python', 'Python', 'Python', 'Python', 'Python')\n",
      "True\n",
      "False\n",
      "False\n",
      "True\n",
      "The smallest element in the given tuple is 1\n",
      "The largest element in the given tuple is 50\n",
      "The sum of elements in the given tuple is 239\n",
      "No. of times the given element is repeated in the given tuple is 2\n",
      "The position of the element in the tuple is 0\n",
      "The order of the elements in the given tuple after sorting is ['Buragadda', 'Lakshmi', 'Sainat', 'buragadda', 'lakshmi', 'sainath']\n",
      "The order of the elements in the given tuple after sorting is ['sainath', 'lakshmi', 'buragadda', 'Sainat', 'Lakshmi', 'Buragadda']\n",
      "The order of the elements in the given tuple after sorting is [50, 40, 30, 24, 23, 18, 15, 15, 10, 6, 5, 2, 1]\n"
     ]
    }
   ],
   "source": [
    "#### Method : 1 - Concatenation :  We can use \"+\" to concatiante two tuples\n",
    "\n",
    "T1 = (\"Sainath\",\"Male\",35,5.8,50000)\n",
    "T2 = (\"Business Analyst\",\"LNT Infotech\",\"Hyderabad\")\n",
    "Emp_details = T1+T2\n",
    "print(Emp_details)\n",
    "\n",
    "# Method : 2 - Length :  To find the number of elements in the tuple\n",
    "print(\"The number of elements in the given tuple is\",len(Emp_details))\n",
    "\n",
    "# Method : 3 - Repetition : To copy the tuples concatenated\n",
    "T3 = (\"Python\",)\n",
    "print(T3*6)\n",
    "\n",
    "# Membership\n",
    "# \"In & Not In\" operator - To find whether the given element present in the given tuple or not.\n",
    "print(\"Sainath\" in T1)\n",
    "print(\"Sai\" in T1)\n",
    "print(\"Analyst\" in T1)\n",
    "print(\"Analyst\" not in T1)\n",
    "\n",
    "\n",
    "# Method : 4 - Smallest and largest elements in the given tuple.\n",
    "T4 = (1,2,5,6,10,15,15,18,23,24,30,40,50)\n",
    "print(\"The smallest element in the given tuple is\",min(T4))\n",
    "print(\"The largest element in the given tuple is\", max(T4))\n",
    "print(\"The sum of elements in the given tuple is\",sum(T4))\n",
    "\n",
    "# Note : We can use max and min methods on either \"int\" or \"str\" data types. But not on mixed data type.\n",
    "\n",
    "# Method : 5 - Count : To find number of times an elements is repeated in the tuple.\n",
    "print(\"No. of times the given element is repeated in the given tuple is\",T4.count(15))\n",
    "\n",
    "# Method : 6 - Index :  Which will return the position of the required element. \n",
    "# If the same element is repeated morethan one time then first/smallest position is returned.\n",
    "print(\"The position of the element in the tuple is\",T1.index(\"Sainath\"))\n",
    "\n",
    "# Method : 7  - Sorting : Arranging the element in either ascending or decending order in the tuple.\n",
    "T5 = (\"Sainat\",\"sainath\",\"Buragadda\",\"buragadda\",\"Lakshmi\",\"lakshmi\")\n",
    "print(\"The order of the elements in the given tuple after sorting is\",sorted(T5)) # By default ascending order\n",
    "print(\"The order of the elements in the given tuple after sorting is\",sorted(T5, reverse = True)) # In decending order\n",
    "print(\"The order of the elements in the given tuple after sorting is\",sorted(T4, reverse = True))\n",
    "\n",
    "\n",
    "# Note: Updating or deleting or replacing the elements in the tuple is not supported. Because tuples are immutable."
   ]
  },
  {
   "cell_type": "markdown",
   "metadata": {},
   "source": [
    "# Creating a tuple from different data types."
   ]
  },
  {
   "cell_type": "code",
   "execution_count": 75,
   "metadata": {},
   "outputs": [
    {
     "name": "stdout",
     "output_type": "stream",
     "text": [
      "<class 'tuple'>\n",
      "The converted elements from list to tuple is (0, 10, 15, 25, 30, 45)\n",
      "<class 'str'>\n",
      "<class 'tuple'>\n",
      "The created tuple from the string is ('P', 'y', 't', 'h', 'o', 'n')\n",
      "<class 'dict'>\n",
      "<class 'tuple'>\n",
      "The created new tuple from the dictionary is (1, 2)\n"
     ]
    }
   ],
   "source": [
    "# Creating a tuple i.e., converting any data type into tuple using tuple() function.\n",
    "\n",
    "T6 = [0,10,15,25,30,45]  # We have created a list.\n",
    "T6 = tuple(T6)  # By using tuple() function we have conveted the list into tuple.\n",
    "print(type(T6))\n",
    "print(\"The converted elements from list to tuple is\",T6)\n",
    "\n",
    "\n",
    "# Creating a tuple from string.\n",
    "T7 = \"Python\"\n",
    "T8 = tuple(T7)\n",
    "print(type(T7))\n",
    "print(type(T8))\n",
    "print(\"The created tuple from the string is\",T8)  # Here each character in the string is converted into elements of the tuple.\n",
    "\n",
    "\n",
    "# Creating a tuple from dictionary.\n",
    "T9 = {1: \"Data Science\",2: \"Machine Learning\"}\n",
    "T10 = tuple(T9)\n",
    "print(type(T9))\n",
    "print(type(T10))\n",
    "print(\"The created new tuple from the dictionary is\",T10) # Pythong will consider each key in the dictionary and create as elements in the tuple."
   ]
  },
  {
   "cell_type": "markdown",
   "metadata": {},
   "source": [
    "# Advantages of tuple over list\n",
    "\n",
    "* If we have a data that doesn't change, implementing it as tuple will gurantee that it remains write-protected.\n",
    "* Since tuples are immutable, iterating through tuple is faster than with list. So there is a slight performance boost.\n",
    "* Tuples that contain immutable elements can be used as key for a dictionary. With list, this is not possible."
   ]
  }
 ],
 "metadata": {
  "kernelspec": {
   "display_name": "Python 3",
   "language": "python",
   "name": "python3"
  },
  "language_info": {
   "codemirror_mode": {
    "name": "ipython",
    "version": 3
   },
   "file_extension": ".py",
   "mimetype": "text/x-python",
   "name": "python",
   "nbconvert_exporter": "python",
   "pygments_lexer": "ipython3",
   "version": "3.7.4"
  }
 },
 "nbformat": 4,
 "nbformat_minor": 2
}
